{
 "cells": [
  {
   "cell_type": "markdown",
   "metadata": {},
   "source": [
    "# Group 9: Code for the model we're emulating\n"
   ]
  },
  {
   "cell_type": "markdown",
   "metadata": {},
   "source": [
    "## Import libraries"
   ]
  },
  {
   "cell_type": "code",
   "execution_count": 1,
   "metadata": {},
   "outputs": [],
   "source": [
    "import warnings\n",
    "warnings.filterwarnings(\"ignore\")\n",
    "import numpy as np\n",
    "import pandas as pd\n",
    "import seaborn as sns\n",
    "import matplotlib.pyplot as plt\n",
    "from sklearn.preprocessing import LabelEncoder\n",
    "from sklearn.model_selection import train_test_split\n",
    "from sklearn.metrics import classification_report,confusion_matrix,accuracy_score,precision_recall_fscore_support\n",
    "from sklearn.metrics import f1_score,roc_auc_score\n",
    "from sklearn.ensemble import RandomForestClassifier,ExtraTreesClassifier\n",
    "from sklearn.tree import DecisionTreeClassifier\n",
    "import xgboost as xgb\n",
    "from xgboost import plot_importance"
   ]
  },
  {
   "cell_type": "markdown",
   "metadata": {},
   "source": [
    "## Read the sampled CICIDS2017 dataset\n",
    "The CICIDS2017 dataset is publicly available at: https://www.unb.ca/cic/datasets/ids-2017.html  \n",
    "Due to the large size of this dataset, the sampled subsets of CICIDS2017 is used. The subsets are in the \"data\" folder.  \n",
    "If you want to use this code on other datasets (e.g., CAN-intrusion dataset), just change the dataset name and follow the same steps.  \n",
    "The models in this code are generic models that can be used in any intrusion detection/network traffic datasets."
   ]
  },
  {
   "cell_type": "code",
   "execution_count": 2,
   "metadata": {},
   "outputs": [],
   "source": [
    "#Read dataset\n",
    "df = pd.read_csv('./data/2017-data/CICIDS2017_sample_km.csv') "
   ]
  },
  {
   "cell_type": "code",
   "execution_count": 3,
   "metadata": {},
   "outputs": [
    {
     "data": {
      "text/html": [
       "<div>\n",
       "<style scoped>\n",
       "    .dataframe tbody tr th:only-of-type {\n",
       "        vertical-align: middle;\n",
       "    }\n",
       "\n",
       "    .dataframe tbody tr th {\n",
       "        vertical-align: top;\n",
       "    }\n",
       "\n",
       "    .dataframe thead th {\n",
       "        text-align: right;\n",
       "    }\n",
       "</style>\n",
       "<table border=\"1\" class=\"dataframe\">\n",
       "  <thead>\n",
       "    <tr style=\"text-align: right;\">\n",
       "      <th></th>\n",
       "      <th>Flow Duration</th>\n",
       "      <th>Total Fwd Packets</th>\n",
       "      <th>Total Backward Packets</th>\n",
       "      <th>Total Length of Fwd Packets</th>\n",
       "      <th>Total Length of Bwd Packets</th>\n",
       "      <th>Fwd Packet Length Max</th>\n",
       "      <th>Fwd Packet Length Min</th>\n",
       "      <th>Fwd Packet Length Mean</th>\n",
       "      <th>Fwd Packet Length Std</th>\n",
       "      <th>Bwd Packet Length Max</th>\n",
       "      <th>...</th>\n",
       "      <th>min_seg_size_forward</th>\n",
       "      <th>Active Mean</th>\n",
       "      <th>Active Std</th>\n",
       "      <th>Active Max</th>\n",
       "      <th>Active Min</th>\n",
       "      <th>Idle Mean</th>\n",
       "      <th>Idle Std</th>\n",
       "      <th>Idle Max</th>\n",
       "      <th>Idle Min</th>\n",
       "      <th>Label</th>\n",
       "    </tr>\n",
       "  </thead>\n",
       "  <tbody>\n",
       "    <tr>\n",
       "      <th>0</th>\n",
       "      <td>5.416666e-07</td>\n",
       "      <td>0.000000</td>\n",
       "      <td>0.000003</td>\n",
       "      <td>4.651163e-07</td>\n",
       "      <td>9.153974e-09</td>\n",
       "      <td>0.000242</td>\n",
       "      <td>0.002581</td>\n",
       "      <td>0.001010</td>\n",
       "      <td>0.000000</td>\n",
       "      <td>0.000307</td>\n",
       "      <td>...</td>\n",
       "      <td>1.0</td>\n",
       "      <td>0.0</td>\n",
       "      <td>0.0</td>\n",
       "      <td>0.0</td>\n",
       "      <td>0.0</td>\n",
       "      <td>0.0</td>\n",
       "      <td>0.0</td>\n",
       "      <td>0.0</td>\n",
       "      <td>0.0</td>\n",
       "      <td>0</td>\n",
       "    </tr>\n",
       "    <tr>\n",
       "      <th>1</th>\n",
       "      <td>5.416666e-07</td>\n",
       "      <td>0.000000</td>\n",
       "      <td>0.000003</td>\n",
       "      <td>4.651163e-07</td>\n",
       "      <td>9.153974e-09</td>\n",
       "      <td>0.000242</td>\n",
       "      <td>0.002581</td>\n",
       "      <td>0.001010</td>\n",
       "      <td>0.000000</td>\n",
       "      <td>0.000307</td>\n",
       "      <td>...</td>\n",
       "      <td>1.0</td>\n",
       "      <td>0.0</td>\n",
       "      <td>0.0</td>\n",
       "      <td>0.0</td>\n",
       "      <td>0.0</td>\n",
       "      <td>0.0</td>\n",
       "      <td>0.0</td>\n",
       "      <td>0.0</td>\n",
       "      <td>0.0</td>\n",
       "      <td>0</td>\n",
       "    </tr>\n",
       "    <tr>\n",
       "      <th>2</th>\n",
       "      <td>4.416666e-07</td>\n",
       "      <td>0.000000</td>\n",
       "      <td>0.000003</td>\n",
       "      <td>4.651163e-07</td>\n",
       "      <td>9.153974e-09</td>\n",
       "      <td>0.000242</td>\n",
       "      <td>0.002581</td>\n",
       "      <td>0.001010</td>\n",
       "      <td>0.000000</td>\n",
       "      <td>0.000307</td>\n",
       "      <td>...</td>\n",
       "      <td>1.0</td>\n",
       "      <td>0.0</td>\n",
       "      <td>0.0</td>\n",
       "      <td>0.0</td>\n",
       "      <td>0.0</td>\n",
       "      <td>0.0</td>\n",
       "      <td>0.0</td>\n",
       "      <td>0.0</td>\n",
       "      <td>0.0</td>\n",
       "      <td>0</td>\n",
       "    </tr>\n",
       "    <tr>\n",
       "      <th>3</th>\n",
       "      <td>7.499999e-07</td>\n",
       "      <td>0.000000</td>\n",
       "      <td>0.000003</td>\n",
       "      <td>4.651163e-07</td>\n",
       "      <td>9.153974e-09</td>\n",
       "      <td>0.000242</td>\n",
       "      <td>0.002581</td>\n",
       "      <td>0.001010</td>\n",
       "      <td>0.000000</td>\n",
       "      <td>0.000307</td>\n",
       "      <td>...</td>\n",
       "      <td>1.0</td>\n",
       "      <td>0.0</td>\n",
       "      <td>0.0</td>\n",
       "      <td>0.0</td>\n",
       "      <td>0.0</td>\n",
       "      <td>0.0</td>\n",
       "      <td>0.0</td>\n",
       "      <td>0.0</td>\n",
       "      <td>0.0</td>\n",
       "      <td>0</td>\n",
       "    </tr>\n",
       "    <tr>\n",
       "      <th>4</th>\n",
       "      <td>7.249999e-07</td>\n",
       "      <td>0.000000</td>\n",
       "      <td>0.000003</td>\n",
       "      <td>4.651163e-07</td>\n",
       "      <td>9.153974e-09</td>\n",
       "      <td>0.000242</td>\n",
       "      <td>0.002581</td>\n",
       "      <td>0.001010</td>\n",
       "      <td>0.000000</td>\n",
       "      <td>0.000307</td>\n",
       "      <td>...</td>\n",
       "      <td>1.0</td>\n",
       "      <td>0.0</td>\n",
       "      <td>0.0</td>\n",
       "      <td>0.0</td>\n",
       "      <td>0.0</td>\n",
       "      <td>0.0</td>\n",
       "      <td>0.0</td>\n",
       "      <td>0.0</td>\n",
       "      <td>0.0</td>\n",
       "      <td>0</td>\n",
       "    </tr>\n",
       "    <tr>\n",
       "      <th>...</th>\n",
       "      <td>...</td>\n",
       "      <td>...</td>\n",
       "      <td>...</td>\n",
       "      <td>...</td>\n",
       "      <td>...</td>\n",
       "      <td>...</td>\n",
       "      <td>...</td>\n",
       "      <td>...</td>\n",
       "      <td>...</td>\n",
       "      <td>...</td>\n",
       "      <td>...</td>\n",
       "      <td>...</td>\n",
       "      <td>...</td>\n",
       "      <td>...</td>\n",
       "      <td>...</td>\n",
       "      <td>...</td>\n",
       "      <td>...</td>\n",
       "      <td>...</td>\n",
       "      <td>...</td>\n",
       "      <td>...</td>\n",
       "      <td>...</td>\n",
       "    </tr>\n",
       "    <tr>\n",
       "      <th>26795</th>\n",
       "      <td>4.171167e-02</td>\n",
       "      <td>0.000018</td>\n",
       "      <td>0.000010</td>\n",
       "      <td>4.643411e-05</td>\n",
       "      <td>3.083364e-06</td>\n",
       "      <td>0.024134</td>\n",
       "      <td>0.000000</td>\n",
       "      <td>0.020165</td>\n",
       "      <td>0.037594</td>\n",
       "      <td>0.103482</td>\n",
       "      <td>...</td>\n",
       "      <td>1.0</td>\n",
       "      <td>0.0</td>\n",
       "      <td>0.0</td>\n",
       "      <td>0.0</td>\n",
       "      <td>0.0</td>\n",
       "      <td>0.0</td>\n",
       "      <td>0.0</td>\n",
       "      <td>0.0</td>\n",
       "      <td>0.0</td>\n",
       "      <td>6</td>\n",
       "    </tr>\n",
       "    <tr>\n",
       "      <th>26796</th>\n",
       "      <td>4.180643e-02</td>\n",
       "      <td>0.000018</td>\n",
       "      <td>0.000017</td>\n",
       "      <td>4.643411e-05</td>\n",
       "      <td>6.329973e-06</td>\n",
       "      <td>0.024134</td>\n",
       "      <td>0.000000</td>\n",
       "      <td>0.020165</td>\n",
       "      <td>0.037594</td>\n",
       "      <td>0.138300</td>\n",
       "      <td>...</td>\n",
       "      <td>1.0</td>\n",
       "      <td>0.0</td>\n",
       "      <td>0.0</td>\n",
       "      <td>0.0</td>\n",
       "      <td>0.0</td>\n",
       "      <td>0.0</td>\n",
       "      <td>0.0</td>\n",
       "      <td>0.0</td>\n",
       "      <td>0.0</td>\n",
       "      <td>6</td>\n",
       "    </tr>\n",
       "    <tr>\n",
       "      <th>26797</th>\n",
       "      <td>4.174313e-02</td>\n",
       "      <td>0.000014</td>\n",
       "      <td>0.000014</td>\n",
       "      <td>4.643411e-05</td>\n",
       "      <td>3.083364e-06</td>\n",
       "      <td>0.024134</td>\n",
       "      <td>0.000000</td>\n",
       "      <td>0.025207</td>\n",
       "      <td>0.042032</td>\n",
       "      <td>0.103482</td>\n",
       "      <td>...</td>\n",
       "      <td>1.0</td>\n",
       "      <td>0.0</td>\n",
       "      <td>0.0</td>\n",
       "      <td>0.0</td>\n",
       "      <td>0.0</td>\n",
       "      <td>0.0</td>\n",
       "      <td>0.0</td>\n",
       "      <td>0.0</td>\n",
       "      <td>0.0</td>\n",
       "      <td>6</td>\n",
       "    </tr>\n",
       "    <tr>\n",
       "      <th>26798</th>\n",
       "      <td>7.166666e-07</td>\n",
       "      <td>0.000000</td>\n",
       "      <td>0.000003</td>\n",
       "      <td>0.000000e+00</td>\n",
       "      <td>0.000000e+00</td>\n",
       "      <td>0.000000</td>\n",
       "      <td>0.000000</td>\n",
       "      <td>0.000000</td>\n",
       "      <td>0.000000</td>\n",
       "      <td>0.000000</td>\n",
       "      <td>...</td>\n",
       "      <td>1.0</td>\n",
       "      <td>0.0</td>\n",
       "      <td>0.0</td>\n",
       "      <td>0.0</td>\n",
       "      <td>0.0</td>\n",
       "      <td>0.0</td>\n",
       "      <td>0.0</td>\n",
       "      <td>0.0</td>\n",
       "      <td>0.0</td>\n",
       "      <td>6</td>\n",
       "    </tr>\n",
       "    <tr>\n",
       "      <th>26799</th>\n",
       "      <td>1.016667e-06</td>\n",
       "      <td>0.000000</td>\n",
       "      <td>0.000003</td>\n",
       "      <td>0.000000e+00</td>\n",
       "      <td>0.000000e+00</td>\n",
       "      <td>0.000000</td>\n",
       "      <td>0.000000</td>\n",
       "      <td>0.000000</td>\n",
       "      <td>0.000000</td>\n",
       "      <td>0.000000</td>\n",
       "      <td>...</td>\n",
       "      <td>1.0</td>\n",
       "      <td>0.0</td>\n",
       "      <td>0.0</td>\n",
       "      <td>0.0</td>\n",
       "      <td>0.0</td>\n",
       "      <td>0.0</td>\n",
       "      <td>0.0</td>\n",
       "      <td>0.0</td>\n",
       "      <td>0.0</td>\n",
       "      <td>6</td>\n",
       "    </tr>\n",
       "  </tbody>\n",
       "</table>\n",
       "<p>26800 rows × 78 columns</p>\n",
       "</div>"
      ],
      "text/plain": [
       "       Flow Duration  Total Fwd Packets  Total Backward Packets  \\\n",
       "0       5.416666e-07           0.000000                0.000003   \n",
       "1       5.416666e-07           0.000000                0.000003   \n",
       "2       4.416666e-07           0.000000                0.000003   \n",
       "3       7.499999e-07           0.000000                0.000003   \n",
       "4       7.249999e-07           0.000000                0.000003   \n",
       "...              ...                ...                     ...   \n",
       "26795   4.171167e-02           0.000018                0.000010   \n",
       "26796   4.180643e-02           0.000018                0.000017   \n",
       "26797   4.174313e-02           0.000014                0.000014   \n",
       "26798   7.166666e-07           0.000000                0.000003   \n",
       "26799   1.016667e-06           0.000000                0.000003   \n",
       "\n",
       "       Total Length of Fwd Packets  Total Length of Bwd Packets  \\\n",
       "0                     4.651163e-07                 9.153974e-09   \n",
       "1                     4.651163e-07                 9.153974e-09   \n",
       "2                     4.651163e-07                 9.153974e-09   \n",
       "3                     4.651163e-07                 9.153974e-09   \n",
       "4                     4.651163e-07                 9.153974e-09   \n",
       "...                            ...                          ...   \n",
       "26795                 4.643411e-05                 3.083364e-06   \n",
       "26796                 4.643411e-05                 6.329973e-06   \n",
       "26797                 4.643411e-05                 3.083364e-06   \n",
       "26798                 0.000000e+00                 0.000000e+00   \n",
       "26799                 0.000000e+00                 0.000000e+00   \n",
       "\n",
       "       Fwd Packet Length Max  Fwd Packet Length Min  Fwd Packet Length Mean  \\\n",
       "0                   0.000242               0.002581                0.001010   \n",
       "1                   0.000242               0.002581                0.001010   \n",
       "2                   0.000242               0.002581                0.001010   \n",
       "3                   0.000242               0.002581                0.001010   \n",
       "4                   0.000242               0.002581                0.001010   \n",
       "...                      ...                    ...                     ...   \n",
       "26795               0.024134               0.000000                0.020165   \n",
       "26796               0.024134               0.000000                0.020165   \n",
       "26797               0.024134               0.000000                0.025207   \n",
       "26798               0.000000               0.000000                0.000000   \n",
       "26799               0.000000               0.000000                0.000000   \n",
       "\n",
       "       Fwd Packet Length Std  Bwd Packet Length Max  ...  \\\n",
       "0                   0.000000               0.000307  ...   \n",
       "1                   0.000000               0.000307  ...   \n",
       "2                   0.000000               0.000307  ...   \n",
       "3                   0.000000               0.000307  ...   \n",
       "4                   0.000000               0.000307  ...   \n",
       "...                      ...                    ...  ...   \n",
       "26795               0.037594               0.103482  ...   \n",
       "26796               0.037594               0.138300  ...   \n",
       "26797               0.042032               0.103482  ...   \n",
       "26798               0.000000               0.000000  ...   \n",
       "26799               0.000000               0.000000  ...   \n",
       "\n",
       "       min_seg_size_forward  Active Mean  Active Std  Active Max  Active Min  \\\n",
       "0                       1.0          0.0         0.0         0.0         0.0   \n",
       "1                       1.0          0.0         0.0         0.0         0.0   \n",
       "2                       1.0          0.0         0.0         0.0         0.0   \n",
       "3                       1.0          0.0         0.0         0.0         0.0   \n",
       "4                       1.0          0.0         0.0         0.0         0.0   \n",
       "...                     ...          ...         ...         ...         ...   \n",
       "26795                   1.0          0.0         0.0         0.0         0.0   \n",
       "26796                   1.0          0.0         0.0         0.0         0.0   \n",
       "26797                   1.0          0.0         0.0         0.0         0.0   \n",
       "26798                   1.0          0.0         0.0         0.0         0.0   \n",
       "26799                   1.0          0.0         0.0         0.0         0.0   \n",
       "\n",
       "       Idle Mean  Idle Std  Idle Max  Idle Min  Label  \n",
       "0            0.0       0.0       0.0       0.0      0  \n",
       "1            0.0       0.0       0.0       0.0      0  \n",
       "2            0.0       0.0       0.0       0.0      0  \n",
       "3            0.0       0.0       0.0       0.0      0  \n",
       "4            0.0       0.0       0.0       0.0      0  \n",
       "...          ...       ...       ...       ...    ...  \n",
       "26795        0.0       0.0       0.0       0.0      6  \n",
       "26796        0.0       0.0       0.0       0.0      6  \n",
       "26797        0.0       0.0       0.0       0.0      6  \n",
       "26798        0.0       0.0       0.0       0.0      6  \n",
       "26799        0.0       0.0       0.0       0.0      6  \n",
       "\n",
       "[26800 rows x 78 columns]"
      ]
     },
     "execution_count": 3,
     "metadata": {},
     "output_type": "execute_result"
    }
   ],
   "source": [
    "df"
   ]
  },
  {
   "cell_type": "code",
   "execution_count": 4,
   "metadata": {},
   "outputs": [
    {
     "data": {
      "text/plain": [
       "Label\n",
       "0    18225\n",
       "3     3042\n",
       "6     2180\n",
       "1     1966\n",
       "5     1255\n",
       "2       96\n",
       "4       36\n",
       "Name: count, dtype: int64"
      ]
     },
     "execution_count": 4,
     "metadata": {},
     "output_type": "execute_result"
    }
   ],
   "source": [
    "df.Label.value_counts()"
   ]
  },
  {
   "cell_type": "code",
   "execution_count": 5,
   "metadata": {},
   "outputs": [
    {
     "name": "stdout",
     "output_type": "stream",
     "text": [
      "File Path ./data/2019-data/DrDoS_DNS_data_1_per_sample.csv is read into the 2019 dataframe.\n",
      "File Path ./data/2019-data/DrDoS_LDAP_data_2_0_per_sample.csv is read into the 2019 dataframe.\n",
      "File Path ./data/2019-data/DrDoS_MSSQL_data_1_3_per_sample.csv is read into the 2019 dataframe.\n",
      "File Path ./data/2019-data/DrDoS_NetBIOS_data_1_3_per_sample.csv is read into the 2019 dataframe.\n",
      "File Path ./data/2019-data/DrDoS_NTP_data_data_5_per_sample.csv is read into the 2019 dataframe.\n",
      "File Path ./data/2019-data/DrDoS_SNMP_data_1_3_per_sample.csv is read into the 2019 dataframe.\n",
      "File Path ./data/2019-data/DrDoS_SSDP_data_2_per_sample.csv is read into the 2019 dataframe.\n",
      "File Path ./data/2019-data/DrDoS_UDP_data_2_per_sample.csv is read into the 2019 dataframe.\n"
     ]
    }
   ],
   "source": [
    "# traverse through all files in 2019-data\n",
    "import os\n",
    "data_2019_directory = './data/2019-data/'\n",
    "filenames_2019_data = [filename for filename in os.listdir(data_2019_directory)]\n",
    "\n",
    "firstDataFile = data_2019_directory + filenames_2019_data[0]\n",
    "dataframe_all_2019_data = pd.read_csv(firstDataFile)[:80]\n",
    "print(\"File Path \" + firstDataFile + \" is read into the 2019 dataframe.\")\n",
    "\n",
    "\n",
    "# read every file into a dataframe\n",
    "for index in range(1, len(filenames_2019_data)):\n",
    "    fileName = filenames_2019_data[index]\n",
    "    # capturing full path of file\n",
    "    fullFilePath = data_2019_directory + fileName\n",
    "    \n",
    "    # reading first 20 rows of each csv into temporary data frame, then adding that data to the 2019 dataframe\n",
    "    temporary_data_frame = pd.read_csv(fullFilePath)[:80]\n",
    "    #dataframe_all_2019_data =  dataframe_all_2019_data[dataframe_all_2019_data['Label'] != 'BENIGN']\n",
    "    \n",
    "    #temporary_data_frame = temporary_data_frame[temporary_data_frame['Label'] != 'BENIGN']\n",
    "    dataframe_all_2019_data = pd.concat([dataframe_all_2019_data, temporary_data_frame])\n",
    "    print(\"File Path \" + fullFilePath + \" is read into the 2019 dataframe.\")"
   ]
  },
  {
   "cell_type": "code",
   "execution_count": 6,
   "metadata": {},
   "outputs": [],
   "source": [
    "# generating a list of the columns present in the 2017 data frame\n",
    "list_2017 = df.columns\n",
    "set_2017 = set(list_2017)\n",
    "\n",
    "# generating a list of the columns present in the 2019 data frame\n",
    "list_2019 = dataframe_all_2019_data.columns\n",
    "\n",
    "# if column has whitespace, remove the whitespace.\n",
    "for column_name in list_2019:\n",
    "    if column_name[0] == ' ' or column_name[-1] == ' ':\n",
    "        dataframe_all_2019_data = dataframe_all_2019_data.rename(columns= {column_name: column_name.strip()})\n",
    "        \n",
    "# a Python set of all the 2019 data columns\n",
    "set_newer = set(dataframe_all_2019_data.columns)\n",
    "\n",
    "# removing columns from 2019 data frame that don't appear in 2017 data\n",
    "for name in set_newer:\n",
    "    if name not in set_2017:\n",
    "        dataframe_all_2019_data.drop(name, axis=1, inplace=True)"
   ]
  },
  {
   "cell_type": "code",
   "execution_count": 7,
   "metadata": {},
   "outputs": [],
   "source": [
    "\n",
    "# Filter out BENIGN\n",
    "dataframe_all_2019_data =  dataframe_all_2019_data[dataframe_all_2019_data['Label'] != 'BENIGN']"
   ]
  },
  {
   "cell_type": "code",
   "execution_count": 8,
   "metadata": {},
   "outputs": [],
   "source": [
    "# transforming text string of label into a numeric value label\n",
    "labelencoder = LabelEncoder()\n",
    "dataframe_all_2019_data.iloc[:, -1] = labelencoder.fit_transform(dataframe_all_2019_data.iloc[:, -1])\n",
    "\n",
    "# filling n/a data with 0 and replacing infinity with a large value\n",
    "dataframe_all_2019_data = dataframe_all_2019_data.fillna(0)\n",
    "dataframe_all_2019_data.replace([np.inf, -np.inf], 10000000, inplace=True)"
   ]
  },
  {
   "cell_type": "code",
   "execution_count": 9,
   "metadata": {},
   "outputs": [],
   "source": [
    "#dataframe_all_2019_data.Label.value_counts()\n",
    "\n",
    "#capturing the number of unique labels generated\n",
    "unique_labels_count = dataframe_all_2019_data.Label.value_counts().count()\n",
    "\n",
    "\n",
    "# as all these attacks are of type DoS, they should be grouped with the same \n",
    "# label as the DoS attacks in the 2017 data\n",
    "for number in range(unique_labels_count):\n",
    "    dataframe_all_2019_data = dataframe_all_2019_data.replace(number, 3)"
   ]
  },
  {
   "cell_type": "code",
   "execution_count": 10,
   "metadata": {},
   "outputs": [],
   "source": [
    "# now appending the 2019 data from to the 2017 data. They are combined and whole\n",
    "df = pd.concat([df, dataframe_all_2019_data])"
   ]
  },
  {
   "cell_type": "code",
   "execution_count": 11,
   "metadata": {},
   "outputs": [],
   "source": [
    "# Extracts the names of columns in df whose data types are not 'object'\n",
    "numeric_features = df.dtypes[df.dtypes != 'object'].index"
   ]
  },
  {
   "cell_type": "markdown",
   "metadata": {},
   "source": [
    "### splitting up into the training and testing sets"
   ]
  },
  {
   "cell_type": "code",
   "execution_count": 12,
   "metadata": {},
   "outputs": [],
   "source": [
    "# Separates a DataFrame into two parts: X, which contains all columns except 'Label' and y, which contains the flattened\n",
    "# last column as a 1D array for target labels.\n",
    "\n",
    "X = df.drop(['Label'],axis=1).values\n",
    "y = df.iloc[:, -1].values.reshape(-1,1)\n",
    "y = np.ravel(y)"
   ]
  },
  {
   "cell_type": "code",
   "execution_count": 13,
   "metadata": {
    "collapsed": true
   },
   "outputs": [],
   "source": [
    "# Utilizing the same proportion of training and testing data that the authors used\n",
    "X_train, X_test, y_train, y_test = train_test_split(X,y, train_size = 0.8, test_size = 0.2, random_state = 0,stratify = y)"
   ]
  },
  {
   "cell_type": "markdown",
   "metadata": {},
   "source": [
    "## Feature engineering"
   ]
  },
  {
   "cell_type": "markdown",
   "metadata": {},
   "source": [
    "### Feature selection by information gain"
   ]
  },
  {
   "cell_type": "code",
   "execution_count": 14,
   "metadata": {
    "collapsed": true
   },
   "outputs": [],
   "source": [
    "# Identify numeric features in our dataframe and compute the scores with the target variable using mutual_info_classif, \n",
    "# which helps evaluate feature importance in classification tasks.\n",
    "\n",
    "from sklearn.feature_selection import mutual_info_classif\n",
    "numeric_features = df.dtypes[df.dtypes != 'object'].index\n",
    "mutual_info_scores = mutual_info_classif(X_train, y_train)"
   ]
  },
  {
   "cell_type": "code",
   "execution_count": 15,
   "metadata": {},
   "outputs": [],
   "source": [
    "# Sort features by their importance scores in descending order, rounding scores to 4 decimal places\n",
    "sorted_features = sorted(zip(map(lambda x: round(x, 4), mutual_info_scores), numeric_features), reverse=True)\n",
    "\n",
    "# Initialize variables to store the total importance score and a list of feature names\n",
    "total_importances = 0\n",
    "selected_features = []\n",
    "\n",
    "# Iterate through the sorted feature list to calculate total importance and extract feature names\n",
    "for i in range(0, len(sorted_features)):\n",
    "    total_importances = total_importances + sorted_features[i][0]\n",
    "    selected_features.append(sorted_features[i][1])"
   ]
  },
  {
   "cell_type": "code",
   "execution_count": 16,
   "metadata": {},
   "outputs": [],
   "source": [
    "# select the important features from top to bottom until the accumulated importance reaches 90%\n",
    "sorted_features_normalized = sorted(zip(map(lambda x: round(x, 4), mutual_info_scores/total_importances), numeric_features), reverse=True)\n",
    "\n",
    "# Initialize variables for cumulative importance and the list of selected feature names\n",
    "cumulative_importance = 0\n",
    "selected_features = []\n",
    "\n",
    "# Iterate through the normalized feature list, selecting features until cumulative importance reaches 90%\n",
    "for i in range(0, len(sorted_features_normalized)):\n",
    "    cumulative_importance = cumulative_importance + sorted_features_normalized[i][0]\n",
    "    selected_features.append(sorted_features_normalized[i][1])\n",
    "    if cumulative_importance>=0.9:\n",
    "        break        "
   ]
  },
  {
   "cell_type": "code",
   "execution_count": 17,
   "metadata": {
    "collapsed": true
   },
   "outputs": [],
   "source": [
    "# For this cell and the one below, we create a NumPy array that only contains the selected features from our dataframe and \n",
    "# outputs the dimensions to confirm the number of rows and selected columns.\n",
    "X_selected = df[selected_features].values"
   ]
  },
  {
   "cell_type": "code",
   "execution_count": 18,
   "metadata": {},
   "outputs": [
    {
     "data": {
      "text/plain": [
       "(27385, 47)"
      ]
     },
     "execution_count": 18,
     "metadata": {},
     "output_type": "execute_result"
    }
   ],
   "source": [
    "X_selected.shape"
   ]
  },
  {
   "cell_type": "markdown",
   "metadata": {},
   "source": [
    "### Feature selection by Fast Correlation Based Filter (FCBF)\n",
    "\n",
    "The module is imported from the GitHub repo: https://github.com/SantiagoEG/FCBF_module"
   ]
  },
  {
   "cell_type": "code",
   "execution_count": 19,
   "metadata": {
    "collapsed": true
   },
   "outputs": [],
   "source": [
    "# Initialize a Fast Correlation-Based Filter feature selector to select the top 20 features (k = 20)\n",
    "\n",
    "from FCBF_module import FCBF, FCBFK, FCBFiP, get_i\n",
    "fcbf = FCBFK(k = 20)"
   ]
  },
  {
   "cell_type": "code",
   "execution_count": 20,
   "metadata": {},
   "outputs": [],
   "source": [
    "# Create a NumPy array with the selected important features for model input\n",
    "X_fss = fcbf.fit_transform(X_selected,y)"
   ]
  },
  {
   "cell_type": "code",
   "execution_count": 21,
   "metadata": {},
   "outputs": [
    {
     "data": {
      "text/plain": [
       "(27385, 20)"
      ]
     },
     "execution_count": 21,
     "metadata": {},
     "output_type": "execute_result"
    }
   ],
   "source": [
    "X_fss.shape"
   ]
  },
  {
   "cell_type": "markdown",
   "metadata": {},
   "source": [
    "### Re-split train & test sets after feature selection"
   ]
  },
  {
   "cell_type": "code",
   "execution_count": 22,
   "metadata": {
    "collapsed": true
   },
   "outputs": [],
   "source": [
    "# Transform the feature set using FCBF to reduce dimensions\n",
    "X_train, X_test, y_train, y_test = train_test_split(X_fss,y, train_size = 0.8, test_size = 0.2, random_state = 0,stratify = y)"
   ]
  },
  {
   "cell_type": "code",
   "execution_count": 23,
   "metadata": {},
   "outputs": [
    {
     "data": {
      "text/plain": [
       "(21908, 20)"
      ]
     },
     "execution_count": 23,
     "metadata": {},
     "output_type": "execute_result"
    }
   ],
   "source": [
    "X_train.shape"
   ]
  },
  {
   "cell_type": "code",
   "execution_count": 24,
   "metadata": {},
   "outputs": [
    {
     "data": {
      "text/plain": [
       "0    14580\n",
       "3     2901\n",
       "6     1744\n",
       "1     1573\n",
       "5     1004\n",
       "2       77\n",
       "4       29\n",
       "Name: count, dtype: int64"
      ]
     },
     "execution_count": 24,
     "metadata": {},
     "output_type": "execute_result"
    }
   ],
   "source": [
    "pd.Series(y_train).value_counts()"
   ]
  },
  {
   "cell_type": "markdown",
   "metadata": {},
   "source": [
    "### SMOTE to solve class-imbalance"
   ]
  },
  {
   "cell_type": "code",
   "execution_count": 25,
   "metadata": {},
   "outputs": [],
   "source": [
    "# Apply Synthetic Minority Oversampling Technique (SMOTE) to balance the training dataset\n",
    "from imblearn.over_sampling import SMOTE\n",
    "smote=SMOTE(n_jobs=-1,sampling_strategy={2:1000,4:1000})"
   ]
  },
  {
   "cell_type": "code",
   "execution_count": 26,
   "metadata": {
    "collapsed": true
   },
   "outputs": [],
   "source": [
    "X_train, y_train = smote.fit_resample(X_train, y_train)"
   ]
  },
  {
   "cell_type": "code",
   "execution_count": 27,
   "metadata": {},
   "outputs": [
    {
     "data": {
      "text/plain": [
       "0    14580\n",
       "3     2901\n",
       "6     1744\n",
       "1     1573\n",
       "5     1004\n",
       "2     1000\n",
       "4     1000\n",
       "Name: count, dtype: int64"
      ]
     },
     "execution_count": 27,
     "metadata": {},
     "output_type": "execute_result"
    }
   ],
   "source": [
    "pd.Series(y_train).value_counts()"
   ]
  },
  {
   "cell_type": "markdown",
   "metadata": {},
   "source": [
    "## Machine learning model training"
   ]
  },
  {
   "cell_type": "markdown",
   "metadata": {},
   "source": [
    "### Training four base learners: decision tree, random forest, extra trees, XGBoost"
   ]
  },
  {
   "cell_type": "markdown",
   "metadata": {},
   "source": [
    "#### Apply XGBoost"
   ]
  },
  {
   "cell_type": "code",
   "execution_count": 28,
   "metadata": {},
   "outputs": [
    {
     "name": "stdout",
     "output_type": "stream",
     "text": [
      "Accuracy of XGBoost: 0.989958006207778\n",
      "Precision of XGBoost: 0.9900631883844246\n",
      "Recall of XGBoost: 0.989958006207778\n",
      "F1-score of XGBoost: 0.9899851514057036\n",
      "              precision    recall  f1-score   support\n",
      "\n",
      "           0       0.99      0.99      0.99      3645\n",
      "           1       0.98      0.98      0.98       393\n",
      "           2       0.90      1.00      0.95        19\n",
      "           3       0.99      0.99      0.99       726\n",
      "           4       0.88      1.00      0.93         7\n",
      "           5       0.99      0.99      0.99       251\n",
      "           6       0.97      0.99      0.98       436\n",
      "\n",
      "    accuracy                           0.99      5477\n",
      "   macro avg       0.96      0.99      0.97      5477\n",
      "weighted avg       0.99      0.99      0.99      5477\n",
      "\n"
     ]
    },
    {
     "data": {
      "image/png": "[encoded data removed]",
      "text/plain": [
       "<Figure size 500x500 with 2 Axes>"
      ]
     },
     "metadata": {},
     "output_type": "display_data"
    }
   ],
   "source": [
    "xg = xgb.XGBClassifier(n_estimators = 10)\n",
    "xg.fit(X_train,y_train)\n",
    "xg_score=xg.score(X_test,y_test)\n",
    "y_predict=xg.predict(X_test)\n",
    "y_true=y_test\n",
    "print('Accuracy of XGBoost: '+ str(xg_score))\n",
    "precision,recall,fscore,none= precision_recall_fscore_support(y_true, y_predict, average='weighted') \n",
    "print('Precision of XGBoost: '+(str(precision)))\n",
    "print('Recall of XGBoost: '+(str(recall)))\n",
    "print('F1-score of XGBoost: '+(str(fscore)))\n",
    "print(classification_report(y_true,y_predict))\n",
    "cm=confusion_matrix(y_true,y_predict)\n",
    "f,ax=plt.subplots(figsize=(5,5))\n",
    "sns.heatmap(cm,annot=True,linewidth=0.5,linecolor=\"red\",fmt=\".0f\",ax=ax)\n",
    "plt.xlabel(\"y_pred\")\n",
    "plt.ylabel(\"y_true\")\n",
    "plt.show()"
   ]
  },
  {
   "cell_type": "markdown",
   "metadata": {},
   "source": [
    "#### Hyperparameter optimization (HPO) of XGBoost using Bayesian optimization with tree-based Parzen estimator (BO-TPE)\n",
    "Based on the GitHub repo for HPO: https://github.com/LiYangHart/Hyperparameter-Optimization-of-Machine-Learning-Algorithms"
   ]
  },
  {
   "cell_type": "code",
   "execution_count": 29,
   "metadata": {},
   "outputs": [
    {
     "name": "stdout",
     "output_type": "stream",
     "text": [
      "100%|██████████| 20/20 [00:14<00:00,  1.34trial/s, best loss: -0.9961657841884243]\n",
      "XGBoost: Hyperopt estimated optimum {'learning_rate': np.float64(0.574448352197523), 'max_depth': np.float64(84.0), 'n_estimators': np.float64(75.0)}\n"
     ]
    }
   ],
   "source": [
    "# Optimize hyperparameters for MiniBatchKMeans using Hyperopt with Tree-structured Parzen Estimator (TPE)\n",
    "from hyperopt import hp, fmin, tpe, STATUS_OK, Trials\n",
    "from sklearn.model_selection import cross_val_score, StratifiedKFold\n",
    "def objective(params):\n",
    "    params = {\n",
    "        'n_estimators': int(params['n_estimators']), \n",
    "        'max_depth': int(params['max_depth']),\n",
    "        'learning_rate':  abs(float(params['learning_rate'])),\n",
    "\n",
    "    }\n",
    "    clf = xgb.XGBClassifier( **params)\n",
    "    clf.fit(X_train, y_train)\n",
    "    y_pred = clf.predict(X_test)\n",
    "    score = accuracy_score(y_test, y_pred)\n",
    "\n",
    "    return {'loss':-score, 'status': STATUS_OK }\n",
    "\n",
    "space = {\n",
    "    'n_estimators': hp.quniform('n_estimators', 10, 100, 5),\n",
    "    'max_depth': hp.quniform('max_depth', 4, 100, 1),\n",
    "    'learning_rate': hp.normal('learning_rate', 0.01, 0.9),\n",
    "}\n",
    "\n",
    "best = fmin(fn=objective,\n",
    "            space=space,\n",
    "            algo=tpe.suggest,\n",
    "            max_evals=20)\n",
    "print(\"XGBoost: Hyperopt estimated optimum {}\".format(best))"
   ]
  },
  {
   "cell_type": "code",
   "execution_count": 30,
   "metadata": {},
   "outputs": [
    {
     "name": "stdout",
     "output_type": "stream",
     "text": [
      "Accuracy of XGBoost: 0.9959832024831112\n",
      "Precision of XGBoost: 0.9961565663949048\n",
      "Recall of XGBoost: 0.9959832024831112\n",
      "F1-score of XGBoost: 0.9960322248472948\n",
      "              precision    recall  f1-score   support\n",
      "\n",
      "           0       1.00      1.00      1.00      3645\n",
      "           1       0.99      1.00      0.99       393\n",
      "           2       1.00      1.00      1.00        19\n",
      "           3       0.99      1.00      1.00       726\n",
      "           4       0.70      1.00      0.82         7\n",
      "           5       0.99      1.00      0.99       251\n",
      "           6       1.00      0.99      1.00       436\n",
      "\n",
      "    accuracy                           1.00      5477\n",
      "   macro avg       0.95      1.00      0.97      5477\n",
      "weighted avg       1.00      1.00      1.00      5477\n",
      "\n"
     ]
    },
    {
     "data": {
      "image/png": "[encoded data removed]",
      "text/plain": [
       "<Figure size 500x500 with 2 Axes>"
      ]
     },
     "metadata": {},
     "output_type": "display_data"
    }
   ],
   "source": [
    "xg = xgb.XGBClassifier(learning_rate= 0.7340229699980686, n_estimators = 70, max_depth = 14)\n",
    "xg.fit(X_train,y_train)\n",
    "xg_score=xg.score(X_test,y_test)\n",
    "y_predict=xg.predict(X_test)\n",
    "y_true=y_test\n",
    "print('Accuracy of XGBoost: '+ str(xg_score))\n",
    "precision,recall,fscore,none= precision_recall_fscore_support(y_true, y_predict, average='weighted') \n",
    "print('Precision of XGBoost: '+(str(precision)))\n",
    "print('Recall of XGBoost: '+(str(recall)))\n",
    "print('F1-score of XGBoost: '+(str(fscore)))\n",
    "print(classification_report(y_true,y_predict))\n",
    "cm=confusion_matrix(y_true,y_predict)\n",
    "f,ax=plt.subplots(figsize=(5,5))\n",
    "sns.heatmap(cm,annot=True,linewidth=0.5,linecolor=\"red\",fmt=\".0f\",ax=ax)\n",
    "plt.xlabel(\"y_pred\")\n",
    "plt.ylabel(\"y_true\")\n",
    "plt.show()"
   ]
  },
  {
   "cell_type": "code",
   "execution_count": 31,
   "metadata": {},
   "outputs": [],
   "source": [
    "xg_train=xg.predict(X_train)\n",
    "xg_test=xg.predict(X_test)"
   ]
  },
  {
   "cell_type": "markdown",
   "metadata": {},
   "source": [
    "#### Apply RF"
   ]
  },
  {
   "cell_type": "code",
   "execution_count": 32,
   "metadata": {},
   "outputs": [
    {
     "name": "stdout",
     "output_type": "stream",
     "text": [
      "Accuracy of RF: 0.9936096403140405\n",
      "Precision of RF: 0.9936922468557114\n",
      "Recall of RF: 0.9936096403140405\n",
      "F1-score of RF: 0.9936306660728528\n",
      "              precision    recall  f1-score   support\n",
      "\n",
      "           0       1.00      0.99      1.00      3645\n",
      "           1       0.99      1.00      1.00       393\n",
      "           2       1.00      1.00      1.00        19\n",
      "           3       0.99      0.99      0.99       726\n",
      "           4       0.78      1.00      0.88         7\n",
      "           5       0.99      1.00      0.99       251\n",
      "           6       0.98      0.98      0.98       436\n",
      "\n",
      "    accuracy                           0.99      5477\n",
      "   macro avg       0.96      0.99      0.98      5477\n",
      "weighted avg       0.99      0.99      0.99      5477\n",
      "\n"
     ]
    },
    {
     "data": {
      "image/png": "[encoded data removed]",
      "text/plain": [
       "<Figure size 500x500 with 2 Axes>"
      ]
     },
     "metadata": {},
     "output_type": "display_data"
    }
   ],
   "source": [
    "rf = RandomForestClassifier(random_state = 0)\n",
    "rf.fit(X_train,y_train) \n",
    "rf_score=rf.score(X_test,y_test)\n",
    "y_predict=rf.predict(X_test)\n",
    "y_true=y_test\n",
    "print('Accuracy of RF: '+ str(rf_score))\n",
    "precision,recall,fscore,none= precision_recall_fscore_support(y_true, y_predict, average='weighted') \n",
    "print('Precision of RF: '+(str(precision)))\n",
    "print('Recall of RF: '+(str(recall)))\n",
    "print('F1-score of RF: '+(str(fscore)))\n",
    "print(classification_report(y_true,y_predict))\n",
    "cm=confusion_matrix(y_true,y_predict)\n",
    "f,ax=plt.subplots(figsize=(5,5))\n",
    "sns.heatmap(cm,annot=True,linewidth=0.5,linecolor=\"red\",fmt=\".0f\",ax=ax)\n",
    "plt.xlabel(\"y_pred\")\n",
    "plt.ylabel(\"y_true\")\n",
    "plt.show()"
   ]
  },
  {
   "cell_type": "markdown",
   "metadata": {},
   "source": [
    "#### Hyperparameter optimization (HPO) of random forest using Bayesian optimization with tree-based Parzen estimator (BO-TPE)\n",
    "Based on the GitHub repo for HPO: https://github.com/LiYangHart/Hyperparameter-Optimization-of-Machine-Learning-Algorithms"
   ]
  },
  {
   "cell_type": "code",
   "execution_count": 33,
   "metadata": {},
   "outputs": [
    {
     "name": "stdout",
     "output_type": "stream",
     "text": [
      "100%|██████████| 20/20 [01:40<00:00,  5.04s/trial, best loss: -0.9934270586087274]\n",
      "Random Forest: Hyperopt estimated optimum {'criterion': np.int64(1), 'max_depth': np.float64(25.0), 'max_features': np.float64(4.0), 'min_samples_leaf': np.float64(1.0), 'min_samples_split': np.float64(6.0), 'n_estimators': np.float64(128.0)}\n"
     ]
    }
   ],
   "source": [
    "# Optimize hyperparameters for MiniBatchKMeans using Hyperopt with Tree-structured Parzen Estimator (TPE) and random forest\n",
    "from hyperopt import hp, fmin, tpe, STATUS_OK, Trials\n",
    "from sklearn.model_selection import cross_val_score, StratifiedKFold\n",
    "# Define the objective function\n",
    "def objective(params):\n",
    "    params = {\n",
    "        'n_estimators': int(params['n_estimators']), \n",
    "        'max_depth': int(params['max_depth']),\n",
    "        'max_features': int(params['max_features']),\n",
    "        \"min_samples_split\":int(params['min_samples_split']),\n",
    "        \"min_samples_leaf\":int(params['min_samples_leaf']),\n",
    "        \"criterion\":str(params['criterion'])\n",
    "    }\n",
    "    clf = RandomForestClassifier(random_state=0 ,**params)\n",
    "    clf.fit(X_train,y_train)\n",
    "    score=clf.score(X_test,y_test)\n",
    "\n",
    "    return {'loss':-score, 'status': STATUS_OK }\n",
    "# Define the hyperparameter configuration space\n",
    "space = {\n",
    "    'n_estimators': hp.quniform('n_estimators', 10, 200, 1),\n",
    "    'max_depth': hp.quniform('max_depth', 5, 50, 1),\n",
    "    \"max_features\":hp.quniform('max_features', 1, 20, 1),\n",
    "    \"min_samples_split\":hp.quniform('min_samples_split',2,11,1),\n",
    "    \"min_samples_leaf\":hp.quniform('min_samples_leaf',1,11,1),\n",
    "    \"criterion\":hp.choice('criterion',['gini','entropy'])\n",
    "}\n",
    "\n",
    "best = fmin(fn=objective,\n",
    "            space=space,\n",
    "            algo=tpe.suggest,\n",
    "            max_evals=20)\n",
    "print(\"Random Forest: Hyperopt estimated optimum {}\".format(best))"
   ]
  },
  {
   "cell_type": "code",
   "execution_count": 34,
   "metadata": {},
   "outputs": [
    {
     "name": "stdout",
     "output_type": "stream",
     "text": [
      "Accuracy of RF: 0.9939748037246667\n",
      "Precision of RF: 0.9940384751684442\n",
      "Recall of RF: 0.9939748037246667\n",
      "F1-score of RF: 0.9939965477889757\n",
      "              precision    recall  f1-score   support\n",
      "\n",
      "           0       1.00      0.99      1.00      3645\n",
      "           1       0.99      1.00      0.99       393\n",
      "           2       1.00      1.00      1.00        19\n",
      "           3       0.99      1.00      1.00       726\n",
      "           4       0.75      0.86      0.80         7\n",
      "           5       0.98      0.99      0.99       251\n",
      "           6       0.98      0.99      0.99       436\n",
      "\n",
      "    accuracy                           0.99      5477\n",
      "   macro avg       0.96      0.98      0.97      5477\n",
      "weighted avg       0.99      0.99      0.99      5477\n",
      "\n"
     ]
    },
    {
     "data": {
      "image/png": "[encoded data removed]",
      "text/plain": [
       "<Figure size 500x500 with 2 Axes>"
      ]
     },
     "metadata": {},
     "output_type": "display_data"
    }
   ],
   "source": [
    "rf_hpo = RandomForestClassifier(n_estimators = 71, min_samples_leaf = 1, max_depth = 46, min_samples_split = 9, max_features = 20, criterion = 'entropy', random_state=0)\n",
    "rf_hpo.fit(X_train,y_train)\n",
    "rf_score=rf_hpo.score(X_test,y_test)\n",
    "y_predict=rf_hpo.predict(X_test)\n",
    "y_true=y_test\n",
    "print('Accuracy of RF: '+ str(rf_score))\n",
    "precision,recall,fscore,none= precision_recall_fscore_support(y_true, y_predict, average='weighted') \n",
    "print('Precision of RF: '+(str(precision)))\n",
    "print('Recall of RF: '+(str(recall)))\n",
    "print('F1-score of RF: '+(str(fscore)))\n",
    "print(classification_report(y_true,y_predict))\n",
    "cm=confusion_matrix(y_true,y_predict)\n",
    "f,ax=plt.subplots(figsize=(5,5))\n",
    "sns.heatmap(cm,annot=True,linewidth=0.5,linecolor=\"red\",fmt=\".0f\",ax=ax)\n",
    "plt.xlabel(\"y_pred\")\n",
    "plt.ylabel(\"y_true\")\n",
    "plt.show()"
   ]
  },
  {
   "cell_type": "code",
   "execution_count": 35,
   "metadata": {
    "collapsed": true
   },
   "outputs": [],
   "source": [
    "rf_train=rf_hpo.predict(X_train)\n",
    "rf_test=rf_hpo.predict(X_test)"
   ]
  },
  {
   "cell_type": "markdown",
   "metadata": {},
   "source": [
    "#### Apply DT"
   ]
  },
  {
   "cell_type": "code",
   "execution_count": 36,
   "metadata": {},
   "outputs": [
    {
     "name": "stdout",
     "output_type": "stream",
     "text": [
      "Accuracy of DT: 0.9895928427971518\n",
      "Precision of DT: 0.9906981752488236\n",
      "Recall of DT: 0.9895928427971518\n",
      "F1-score of DT: 0.989971103911922\n",
      "              precision    recall  f1-score   support\n",
      "\n",
      "           0       1.00      0.99      0.99      3645\n",
      "           1       0.98      1.00      0.99       393\n",
      "           2       0.95      1.00      0.97        19\n",
      "           3       0.99      0.99      0.99       726\n",
      "           4       0.41      1.00      0.58         7\n",
      "           5       0.98      1.00      0.99       251\n",
      "           6       0.97      0.97      0.97       436\n",
      "\n",
      "    accuracy                           0.99      5477\n",
      "   macro avg       0.90      0.99      0.93      5477\n",
      "weighted avg       0.99      0.99      0.99      5477\n",
      "\n"
     ]
    },
    {
     "data": {
      "image/png": "[encoded data removed]",
      "text/plain": [
       "<Figure size 500x500 with 2 Axes>"
      ]
     },
     "metadata": {},
     "output_type": "display_data"
    }
   ],
   "source": [
    "dt = DecisionTreeClassifier(random_state = 0)\n",
    "dt.fit(X_train,y_train) \n",
    "dt_score=dt.score(X_test,y_test)\n",
    "y_predict=dt.predict(X_test)\n",
    "y_true=y_test\n",
    "print('Accuracy of DT: '+ str(dt_score))\n",
    "precision,recall,fscore,none= precision_recall_fscore_support(y_true, y_predict, average='weighted') \n",
    "print('Precision of DT: '+(str(precision)))\n",
    "print('Recall of DT: '+(str(recall)))\n",
    "print('F1-score of DT: '+(str(fscore)))\n",
    "print(classification_report(y_true,y_predict))\n",
    "cm=confusion_matrix(y_true,y_predict)\n",
    "f,ax=plt.subplots(figsize=(5,5))\n",
    "sns.heatmap(cm,annot=True,linewidth=0.5,linecolor=\"red\",fmt=\".0f\",ax=ax)\n",
    "plt.xlabel(\"y_pred\")\n",
    "plt.ylabel(\"y_true\")\n",
    "plt.show()"
   ]
  },
  {
   "cell_type": "markdown",
   "metadata": {},
   "source": [
    "#### Hyperparameter optimization (HPO) of decision tree using Bayesian optimization with tree-based Parzen estimator (BO-TPE)\n",
    "Based on the GitHub repo for HPO: https://github.com/LiYangHart/Hyperparameter-Optimization-of-Machine-Learning-Algorithms"
   ]
  },
  {
   "cell_type": "code",
   "execution_count": 37,
   "metadata": {},
   "outputs": [
    {
     "name": "stdout",
     "output_type": "stream",
     "text": [
      "100%|██████████| 50/50 [00:05<00:00,  9.76trial/s, best loss: -0.9937922220193537]\n",
      "Decision tree: Hyperopt estimated optimum {'criterion': np.int64(1), 'max_depth': np.float64(50.0), 'max_features': np.float64(18.0), 'min_samples_leaf': np.float64(1.0), 'min_samples_split': np.float64(6.0)}\n"
     ]
    }
   ],
   "source": [
    "# Hyperparameter optimization of decision tree\n",
    "from hyperopt import hp, fmin, tpe, STATUS_OK, Trials\n",
    "from sklearn.model_selection import cross_val_score, StratifiedKFold\n",
    "# Define the objective function\n",
    "def objective(params):\n",
    "    params = {\n",
    "        'max_depth': int(params['max_depth']),\n",
    "        'max_features': int(params['max_features']),\n",
    "        \"min_samples_split\":int(params['min_samples_split']),\n",
    "        \"min_samples_leaf\":int(params['min_samples_leaf']),\n",
    "        \"criterion\":str(params['criterion'])\n",
    "    }\n",
    "    clf = DecisionTreeClassifier(random_state=0, **params)\n",
    "    clf.fit(X_train,y_train)\n",
    "    score=clf.score(X_test,y_test)\n",
    "\n",
    "    return {'loss':-score, 'status': STATUS_OK }\n",
    "# Define the hyperparameter configuration space\n",
    "space = {\n",
    "    'max_depth': hp.quniform('max_depth', 5, 50, 1),\n",
    "    \"max_features\":hp.quniform('max_features', 1, 20, 1),\n",
    "    \"min_samples_split\":hp.quniform('min_samples_split',2,11,1),\n",
    "    \"min_samples_leaf\":hp.quniform('min_samples_leaf',1,11,1),\n",
    "    \"criterion\":hp.choice('criterion',['gini','entropy'])\n",
    "}\n",
    "\n",
    "best = fmin(fn=objective,\n",
    "            space=space,\n",
    "            algo=tpe.suggest,\n",
    "            max_evals=50)\n",
    "print(\"Decision tree: Hyperopt estimated optimum {}\".format(best))"
   ]
  },
  {
   "cell_type": "code",
   "execution_count": 38,
   "metadata": {},
   "outputs": [
    {
     "name": "stdout",
     "output_type": "stream",
     "text": [
      "Accuracy of DT: 0.989958006207778\n",
      "Precision of DT: 0.9909145493815781\n",
      "Recall of DT: 0.989958006207778\n",
      "F1-score of DT: 0.9902749379710578\n",
      "              precision    recall  f1-score   support\n",
      "\n",
      "           0       0.99      0.99      0.99      3645\n",
      "           1       0.98      1.00      0.99       393\n",
      "           2       0.90      1.00      0.95        19\n",
      "           3       0.99      0.99      0.99       726\n",
      "           4       0.44      1.00      0.61         7\n",
      "           5       0.98      1.00      0.99       251\n",
      "           6       0.98      0.97      0.98       436\n",
      "\n",
      "    accuracy                           0.99      5477\n",
      "   macro avg       0.90      0.99      0.93      5477\n",
      "weighted avg       0.99      0.99      0.99      5477\n",
      "\n"
     ]
    },
    {
     "data": {
      "image/png": "[encoded data removed]",
      "text/plain": [
       "<Figure size 500x500 with 2 Axes>"
      ]
     },
     "metadata": {},
     "output_type": "display_data"
    }
   ],
   "source": [
    "dt_hpo = DecisionTreeClassifier(min_samples_leaf = 2, max_depth = 47, min_samples_split = 3, max_features = 19, criterion = 'gini', random_state=0)\n",
    "dt_hpo.fit(X_train,y_train)\n",
    "dt_score=dt_hpo.score(X_test,y_test)\n",
    "y_predict=dt_hpo.predict(X_test)\n",
    "y_true=y_test\n",
    "print('Accuracy of DT: '+ str(dt_score))\n",
    "precision,recall,fscore,none= precision_recall_fscore_support(y_true, y_predict, average='weighted') \n",
    "print('Precision of DT: '+(str(precision)))\n",
    "print('Recall of DT: '+(str(recall)))\n",
    "print('F1-score of DT: '+(str(fscore)))\n",
    "print(classification_report(y_true,y_predict))\n",
    "cm=confusion_matrix(y_true,y_predict)\n",
    "f,ax=plt.subplots(figsize=(5,5))\n",
    "sns.heatmap(cm,annot=True,linewidth=0.5,linecolor=\"red\",fmt=\".0f\",ax=ax)\n",
    "plt.xlabel(\"y_pred\")\n",
    "plt.ylabel(\"y_true\")\n",
    "plt.show()"
   ]
  },
  {
   "cell_type": "code",
   "execution_count": 39,
   "metadata": {
    "collapsed": true
   },
   "outputs": [],
   "source": [
    "dt_train=dt_hpo.predict(X_train)\n",
    "dt_test=dt_hpo.predict(X_test)"
   ]
  },
  {
   "cell_type": "markdown",
   "metadata": {},
   "source": [
    "#### Apply ET"
   ]
  },
  {
   "cell_type": "code",
   "execution_count": 40,
   "metadata": {},
   "outputs": [
    {
     "name": "stdout",
     "output_type": "stream",
     "text": [
      "Accuracy of ET: 0.9948877122512324\n",
      "Precision of ET: 0.9948932656207664\n",
      "Recall of ET: 0.9948877122512324\n",
      "F1-score of ET: 0.9948869524048605\n",
      "              precision    recall  f1-score   support\n",
      "\n",
      "           0       1.00      1.00      1.00      3645\n",
      "           1       0.99      1.00      1.00       393\n",
      "           2       1.00      1.00      1.00        19\n",
      "           3       0.99      0.99      0.99       726\n",
      "           4       1.00      1.00      1.00         7\n",
      "           5       0.99      1.00      0.99       251\n",
      "           6       1.00      0.99      0.99       436\n",
      "\n",
      "    accuracy                           0.99      5477\n",
      "   macro avg       0.99      1.00      1.00      5477\n",
      "weighted avg       0.99      0.99      0.99      5477\n",
      "\n"
     ]
    },
    {
     "data": {
      "image/png": "[encoded data removed]",
      "text/plain": [
       "<Figure size 500x500 with 2 Axes>"
      ]
     },
     "metadata": {},
     "output_type": "display_data"
    }
   ],
   "source": [
    "et = ExtraTreesClassifier(random_state = 0)\n",
    "et.fit(X_train,y_train) \n",
    "et_score=et.score(X_test,y_test)\n",
    "y_predict=et.predict(X_test)\n",
    "y_true=y_test\n",
    "print('Accuracy of ET: '+ str(et_score))\n",
    "precision,recall,fscore,none= precision_recall_fscore_support(y_true, y_predict, average='weighted') \n",
    "print('Precision of ET: '+(str(precision)))\n",
    "print('Recall of ET: '+(str(recall)))\n",
    "print('F1-score of ET: '+(str(fscore)))\n",
    "print(classification_report(y_true,y_predict))\n",
    "cm=confusion_matrix(y_true,y_predict)\n",
    "f,ax=plt.subplots(figsize=(5,5))\n",
    "sns.heatmap(cm,annot=True,linewidth=0.5,linecolor=\"red\",fmt=\".0f\",ax=ax)\n",
    "plt.xlabel(\"y_pred\")\n",
    "plt.ylabel(\"y_true\")\n",
    "plt.show()"
   ]
  },
  {
   "cell_type": "markdown",
   "metadata": {},
   "source": [
    "#### Hyperparameter optimization (HPO) of extra trees using Bayesian optimization with tree-based Parzen estimator (BO-TPE)\n",
    "Based on the GitHub repo for HPO: https://github.com/LiYangHart/Hyperparameter-Optimization-of-Machine-Learning-Algorithms"
   ]
  },
  {
   "cell_type": "code",
   "execution_count": 41,
   "metadata": {},
   "outputs": [
    {
     "name": "stdout",
     "output_type": "stream",
     "text": [
      "100%|██████████| 20/20 [00:20<00:00,  1.01s/trial, best loss: -0.9906883330290305]\n",
      "Random Forest: Hyperopt estimated optimum {'criterion': np.int64(1), 'max_depth': np.float64(23.0), 'max_features': np.float64(18.0), 'min_samples_leaf': np.float64(3.0), 'min_samples_split': np.float64(3.0), 'n_estimators': np.float64(167.0)}\n"
     ]
    }
   ],
   "source": [
    "# Hyperparameter optimization of extra trees\n",
    "from hyperopt import hp, fmin, tpe, STATUS_OK, Trials\n",
    "from sklearn.model_selection import cross_val_score, StratifiedKFold\n",
    "# Define the objective function\n",
    "def objective(params):\n",
    "    params = {\n",
    "        'n_estimators': int(params['n_estimators']), \n",
    "        'max_depth': int(params['max_depth']),\n",
    "        'max_features': int(params['max_features']),\n",
    "        \"min_samples_split\":int(params['min_samples_split']),\n",
    "        \"min_samples_leaf\":int(params['min_samples_leaf']),\n",
    "        \"criterion\":str(params['criterion'])\n",
    "    }\n",
    "    clf = ExtraTreesClassifier(random_state=0, **params)\n",
    "    clf.fit(X_train,y_train)\n",
    "    score=clf.score(X_test,y_test)\n",
    "\n",
    "    return {'loss':-score, 'status': STATUS_OK }\n",
    "# Define the hyperparameter configuration space\n",
    "space = {\n",
    "    'n_estimators': hp.quniform('n_estimators', 10, 200, 1),\n",
    "    'max_depth': hp.quniform('max_depth', 5, 50, 1),\n",
    "    \"max_features\":hp.quniform('max_features', 1, 20, 1),\n",
    "    \"min_samples_split\":hp.quniform('min_samples_split',2,11,1),\n",
    "    \"min_samples_leaf\":hp.quniform('min_samples_leaf',1,11,1),\n",
    "    \"criterion\":hp.choice('criterion',['gini','entropy'])\n",
    "}\n",
    "\n",
    "best = fmin(fn=objective,\n",
    "            space=space,\n",
    "            algo=tpe.suggest,\n",
    "            max_evals=20)\n",
    "print(\"Random Forest: Hyperopt estimated optimum {}\".format(best))"
   ]
  },
  {
   "cell_type": "code",
   "execution_count": 42,
   "metadata": {},
   "outputs": [
    {
     "name": "stdout",
     "output_type": "stream",
     "text": [
      "Accuracy of ET: 0.9954354573671718\n",
      "Precision of ET: 0.9954487260676353\n",
      "Recall of ET: 0.9954354573671718\n",
      "F1-score of ET: 0.9954300014036344\n",
      "              precision    recall  f1-score   support\n",
      "\n",
      "           0       1.00      1.00      1.00      3645\n",
      "           1       0.99      1.00      0.99       393\n",
      "           2       1.00      1.00      1.00        19\n",
      "           3       0.99      1.00      0.99       726\n",
      "           4       1.00      0.86      0.92         7\n",
      "           5       0.99      1.00      0.99       251\n",
      "           6       1.00      0.99      0.99       436\n",
      "\n",
      "    accuracy                           1.00      5477\n",
      "   macro avg       0.99      0.98      0.98      5477\n",
      "weighted avg       1.00      1.00      1.00      5477\n",
      "\n"
     ]
    },
    {
     "data": {
      "image/png": "[encoded data removed]",
      "text/plain": [
       "<Figure size 500x500 with 2 Axes>"
      ]
     },
     "metadata": {},
     "output_type": "display_data"
    }
   ],
   "source": [
    "et_hpo = ExtraTreesClassifier(n_estimators = 53, min_samples_leaf = 1, max_depth = 31, min_samples_split = 5, max_features = 20, criterion = 'entropy', random_state=0)\n",
    "et_hpo.fit(X_train,y_train) \n",
    "et_score=et_hpo.score(X_test,y_test)\n",
    "y_predict=et_hpo.predict(X_test)\n",
    "y_true=y_test\n",
    "print('Accuracy of ET: '+ str(et_score))\n",
    "precision,recall,fscore,none= precision_recall_fscore_support(y_true, y_predict, average='weighted') \n",
    "print('Precision of ET: '+(str(precision)))\n",
    "print('Recall of ET: '+(str(recall)))\n",
    "print('F1-score of ET: '+(str(fscore)))\n",
    "print(classification_report(y_true,y_predict))\n",
    "cm=confusion_matrix(y_true,y_predict)\n",
    "f,ax=plt.subplots(figsize=(5,5))\n",
    "sns.heatmap(cm,annot=True,linewidth=0.5,linecolor=\"red\",fmt=\".0f\",ax=ax)\n",
    "plt.xlabel(\"y_pred\")\n",
    "plt.ylabel(\"y_true\")\n",
    "plt.show()"
   ]
  },
  {
   "cell_type": "code",
   "execution_count": 43,
   "metadata": {
    "collapsed": true
   },
   "outputs": [],
   "source": [
    "et_train=et_hpo.predict(X_train)\n",
    "et_test=et_hpo.predict(X_test)"
   ]
  },
  {
   "cell_type": "markdown",
   "metadata": {},
   "source": [
    "### Apply Stacking\n",
    "The ensemble model that combines the four ML models (DT, RF, ET, XGBoost)"
   ]
  },
  {
   "cell_type": "code",
   "execution_count": 44,
   "metadata": {},
   "outputs": [
    {
     "data": {
      "text/html": [
       "<div>\n",
       "<style scoped>\n",
       "    .dataframe tbody tr th:only-of-type {\n",
       "        vertical-align: middle;\n",
       "    }\n",
       "\n",
       "    .dataframe tbody tr th {\n",
       "        vertical-align: top;\n",
       "    }\n",
       "\n",
       "    .dataframe thead th {\n",
       "        text-align: right;\n",
       "    }\n",
       "</style>\n",
       "<table border=\"1\" class=\"dataframe\">\n",
       "  <thead>\n",
       "    <tr style=\"text-align: right;\">\n",
       "      <th></th>\n",
       "      <th>DecisionTree</th>\n",
       "      <th>RandomForest</th>\n",
       "      <th>ExtraTrees</th>\n",
       "      <th>XgBoost</th>\n",
       "    </tr>\n",
       "  </thead>\n",
       "  <tbody>\n",
       "    <tr>\n",
       "      <th>0</th>\n",
       "      <td>0</td>\n",
       "      <td>0</td>\n",
       "      <td>0</td>\n",
       "      <td>0</td>\n",
       "    </tr>\n",
       "    <tr>\n",
       "      <th>1</th>\n",
       "      <td>0</td>\n",
       "      <td>0</td>\n",
       "      <td>0</td>\n",
       "      <td>0</td>\n",
       "    </tr>\n",
       "    <tr>\n",
       "      <th>2</th>\n",
       "      <td>0</td>\n",
       "      <td>0</td>\n",
       "      <td>0</td>\n",
       "      <td>0</td>\n",
       "    </tr>\n",
       "    <tr>\n",
       "      <th>3</th>\n",
       "      <td>0</td>\n",
       "      <td>0</td>\n",
       "      <td>0</td>\n",
       "      <td>0</td>\n",
       "    </tr>\n",
       "    <tr>\n",
       "      <th>4</th>\n",
       "      <td>0</td>\n",
       "      <td>0</td>\n",
       "      <td>0</td>\n",
       "      <td>0</td>\n",
       "    </tr>\n",
       "  </tbody>\n",
       "</table>\n",
       "</div>"
      ],
      "text/plain": [
       "   DecisionTree  RandomForest  ExtraTrees  XgBoost\n",
       "0             0             0           0        0\n",
       "1             0             0           0        0\n",
       "2             0             0           0        0\n",
       "3             0             0           0        0\n",
       "4             0             0           0        0"
      ]
     },
     "execution_count": 44,
     "metadata": {},
     "output_type": "execute_result"
    }
   ],
   "source": [
    "base_predictions_train = pd.DataFrame( {\n",
    "    'DecisionTree': dt_train.ravel(),\n",
    "        'RandomForest': rf_train.ravel(),\n",
    "     'ExtraTrees': et_train.ravel(),\n",
    "     'XgBoost': xg_train.ravel(),\n",
    "    })\n",
    "base_predictions_train.head(5)"
   ]
  },
  {
   "cell_type": "code",
   "execution_count": 45,
   "metadata": {},
   "outputs": [],
   "source": [
    "dt_train=dt_train.reshape(-1, 1)\n",
    "et_train=et_train.reshape(-1, 1)\n",
    "rf_train=rf_train.reshape(-1, 1)\n",
    "xg_train=xg_train.reshape(-1, 1)\n",
    "dt_test=dt_test.reshape(-1, 1)\n",
    "et_test=et_test.reshape(-1, 1)\n",
    "rf_test=rf_test.reshape(-1, 1)\n",
    "xg_test=xg_test.reshape(-1, 1)"
   ]
  },
  {
   "cell_type": "code",
   "execution_count": 46,
   "metadata": {},
   "outputs": [
    {
     "data": {
      "text/plain": [
       "(23802, 1)"
      ]
     },
     "execution_count": 46,
     "metadata": {},
     "output_type": "execute_result"
    }
   ],
   "source": [
    "dt_train.shape"
   ]
  },
  {
   "cell_type": "code",
   "execution_count": 47,
   "metadata": {},
   "outputs": [],
   "source": [
    "x_train = np.concatenate(( dt_train, et_train, rf_train, xg_train), axis=1)\n",
    "x_test = np.concatenate(( dt_test, et_test, rf_test, xg_test), axis=1)"
   ]
  },
  {
   "cell_type": "code",
   "execution_count": 48,
   "metadata": {},
   "outputs": [
    {
     "name": "stdout",
     "output_type": "stream",
     "text": [
      "Accuracy of Stacking: 0.9952528756618587\n",
      "Precision of Stacking: 0.995429804803022\n",
      "Recall of Stacking: 0.9952528756618587\n",
      "F1-score of Stacking: 0.9953020254775008\n",
      "              precision    recall  f1-score   support\n",
      "\n",
      "           0       1.00      1.00      1.00      3645\n",
      "           1       0.99      1.00      0.99       393\n",
      "           2       1.00      1.00      1.00        19\n",
      "           3       0.99      1.00      0.99       726\n",
      "           4       0.70      1.00      0.82         7\n",
      "           5       0.99      1.00      0.99       251\n",
      "           6       1.00      0.99      0.99       436\n",
      "\n",
      "    accuracy                           1.00      5477\n",
      "   macro avg       0.95      1.00      0.97      5477\n",
      "weighted avg       1.00      1.00      1.00      5477\n",
      "\n"
     ]
    },
    {
     "data": {
      "image/png": "[encoded data removed]",
      "text/plain": [
       "<Figure size 500x500 with 2 Axes>"
      ]
     },
     "metadata": {},
     "output_type": "display_data"
    }
   ],
   "source": [
    "stk = xgb.XGBClassifier().fit(x_train, y_train)\n",
    "y_predict=stk.predict(x_test)\n",
    "y_true=y_test\n",
    "stk_score=accuracy_score(y_true,y_predict)\n",
    "print('Accuracy of Stacking: '+ str(stk_score))\n",
    "precision,recall,fscore,none= precision_recall_fscore_support(y_true, y_predict, average='weighted') \n",
    "print('Precision of Stacking: '+(str(precision)))\n",
    "print('Recall of Stacking: '+(str(recall)))\n",
    "print('F1-score of Stacking: '+(str(fscore)))\n",
    "print(classification_report(y_true,y_predict))\n",
    "cm=confusion_matrix(y_true,y_predict)\n",
    "f,ax=plt.subplots(figsize=(5,5))\n",
    "sns.heatmap(cm,annot=True,linewidth=0.5,linecolor=\"red\",fmt=\".0f\",ax=ax)\n",
    "plt.xlabel(\"y_pred\")\n",
    "plt.ylabel(\"y_true\")\n",
    "plt.show()"
   ]
  },
  {
   "cell_type": "markdown",
   "metadata": {},
   "source": [
    "#### Hyperparameter optimization (HPO) of the stacking ensemble model (XGBoost) using Bayesian optimization with tree-based Parzen estimator (BO-TPE)\n",
    "Based on the GitHub repo for HPO: https://github.com/LiYangHart/Hyperparameter-Optimization-of-Machine-Learning-Algorithms"
   ]
  },
  {
   "cell_type": "code",
   "execution_count": 49,
   "metadata": {},
   "outputs": [
    {
     "name": "stdout",
     "output_type": "stream",
     "text": [
      "100%|██████████| 20/20 [00:05<00:00,  3.45trial/s, best loss: -0.9952528756618587]\n",
      "XGBoost: Hyperopt estimated optimum {'learning_rate': np.float64(0.8614193489076387), 'max_depth': np.float64(96.0), 'n_estimators': np.float64(45.0)}\n"
     ]
    }
   ],
   "source": [
    "from hyperopt import hp, fmin, tpe, STATUS_OK, Trials\n",
    "from sklearn.model_selection import cross_val_score, StratifiedKFold\n",
    "def objective(params):\n",
    "    params = {\n",
    "        'n_estimators': int(params['n_estimators']), \n",
    "        'max_depth': int(params['max_depth']),\n",
    "        'learning_rate':  abs(float(params['learning_rate'])),\n",
    "\n",
    "    }\n",
    "    clf = xgb.XGBClassifier( **params)\n",
    "    clf.fit(x_train, y_train)\n",
    "    y_pred = clf.predict(x_test)\n",
    "    score = accuracy_score(y_test, y_pred)\n",
    "\n",
    "    return {'loss':-score, 'status': STATUS_OK }\n",
    "\n",
    "space = {\n",
    "    'n_estimators': hp.quniform('n_estimators', 10, 100, 5),\n",
    "    'max_depth': hp.quniform('max_depth', 4, 100, 1),\n",
    "    'learning_rate': hp.normal('learning_rate', 0.01, 0.9),\n",
    "}\n",
    "\n",
    "best = fmin(fn=objective,\n",
    "            space=space,\n",
    "            algo=tpe.suggest,\n",
    "            max_evals=20)\n",
    "print(\"XGBoost: Hyperopt estimated optimum {}\".format(best))"
   ]
  },
  {
   "cell_type": "code",
   "execution_count": 50,
   "metadata": {},
   "outputs": [
    {
     "name": "stdout",
     "output_type": "stream",
     "text": [
      "Accuracy of XGBoost: 0.9952528756618587\n",
      "Precision of XGBoost: 0.995429804803022\n",
      "Recall of XGBoost: 0.9952528756618587\n",
      "F1-score of XGBoost: 0.9953020254775008\n",
      "              precision    recall  f1-score   support\n",
      "\n",
      "           0       1.00      1.00      1.00      3645\n",
      "           1       0.99      1.00      0.99       393\n",
      "           2       1.00      1.00      1.00        19\n",
      "           3       0.99      1.00      0.99       726\n",
      "           4       0.70      1.00      0.82         7\n",
      "           5       0.99      1.00      0.99       251\n",
      "           6       1.00      0.99      0.99       436\n",
      "\n",
      "    accuracy                           1.00      5477\n",
      "   macro avg       0.95      1.00      0.97      5477\n",
      "weighted avg       1.00      1.00      1.00      5477\n",
      "\n"
     ]
    },
    {
     "data": {
      "image/png": "[encoded data removed]",
      "text/plain": [
       "<Figure size 500x500 with 2 Axes>"
      ]
     },
     "metadata": {},
     "output_type": "display_data"
    }
   ],
   "source": [
    "xg = xgb.XGBClassifier(learning_rate= 0.19229249758051492, n_estimators = 30, max_depth = 36)\n",
    "xg.fit(x_train,y_train)\n",
    "xg_score=xg.score(x_test,y_test)\n",
    "y_predict=xg.predict(x_test)\n",
    "y_true=y_test\n",
    "print('Accuracy of XGBoost: '+ str(xg_score))\n",
    "precision,recall,fscore,none= precision_recall_fscore_support(y_true, y_predict, average='weighted') \n",
    "print('Precision of XGBoost: '+(str(precision)))\n",
    "print('Recall of XGBoost: '+(str(recall)))\n",
    "print('F1-score of XGBoost: '+(str(fscore)))\n",
    "print(classification_report(y_true,y_predict))\n",
    "cm=confusion_matrix(y_true,y_predict)\n",
    "f,ax=plt.subplots(figsize=(5,5))\n",
    "sns.heatmap(cm,annot=True,linewidth=0.5,linecolor=\"red\",fmt=\".0f\",ax=ax)\n",
    "plt.xlabel(\"y_pred\")\n",
    "plt.ylabel(\"y_true\")\n",
    "plt.show()"
   ]
  },
  {
   "cell_type": "markdown",
   "metadata": {
    "collapsed": true
   },
   "source": [
    "## Anomaly-based IDS"
   ]
  },
  {
   "cell_type": "markdown",
   "metadata": {},
   "source": [
    "### Generate the port-scan datasets for unknown attack detection"
   ]
  },
  {
   "cell_type": "code",
   "execution_count": 51,
   "metadata": {
    "collapsed": true
   },
   "outputs": [],
   "source": [
    "#df=pd.read_csv('./data/CICIDS2017_sample_km.csv')"
   ]
  },
  {
   "cell_type": "code",
   "execution_count": 52,
   "metadata": {},
   "outputs": [
    {
     "data": {
      "text/plain": [
       "Label\n",
       "0    18225\n",
       "3     3627\n",
       "6     2180\n",
       "1     1966\n",
       "5     1255\n",
       "2       96\n",
       "4       36\n",
       "Name: count, dtype: int64"
      ]
     },
     "execution_count": 52,
     "metadata": {},
     "output_type": "execute_result"
    }
   ],
   "source": [
    "df.Label.value_counts()"
   ]
  },
  {
   "cell_type": "code",
   "execution_count": 53,
   "metadata": {
    "collapsed": true
   },
   "outputs": [],
   "source": [
    "df1 = df[df['Label'] != 5]\n",
    "df1['Label'][df1['Label'] > 0] = 1\n",
    "df1.to_csv('./data/CICIDS2017_sample_km_without_portscan.csv',index=0)"
   ]
  },
  {
   "cell_type": "code",
   "execution_count": 54,
   "metadata": {
    "collapsed": true
   },
   "outputs": [],
   "source": [
    "df2 = df[df['Label'] == 5]\n",
    "df2['Label'][df2['Label'] == 5] = 1\n",
    "df2.to_csv('./data/CICIDS2017_sample_km_portscan.csv',index=0)"
   ]
  },
  {
   "cell_type": "markdown",
   "metadata": {},
   "source": [
    "### Read the generated datasets for unknown attack detection"
   ]
  },
  {
   "cell_type": "code",
   "execution_count": 55,
   "metadata": {
    "collapsed": true
   },
   "outputs": [],
   "source": [
    "df1 = pd.read_csv('./data/CICIDS2017_sample_km_without_portscan.csv')\n",
    "df2 = pd.read_csv('./data/CICIDS2017_sample_km_portscan.csv')"
   ]
  },
  {
   "cell_type": "code",
   "execution_count": 56,
   "metadata": {},
   "outputs": [],
   "source": [
    "numeric_features = df1.drop(['Label'],axis=1).dtypes[df1.dtypes != 'object'].index\n",
    "df1[numeric_features] = df1[numeric_features].apply(\n",
    "    lambda x: (x - x.mean()) / (x.std()))\n",
    "df2[numeric_features] = df2[numeric_features].apply(\n",
    "    lambda x: (x - x.mean()) / (x.std()))\n",
    "df1 = df1.fillna(0)\n",
    "df2 = df2.fillna(0)"
   ]
  },
  {
   "cell_type": "code",
   "execution_count": 57,
   "metadata": {},
   "outputs": [
    {
     "data": {
      "text/plain": [
       "Label\n",
       "0    18225\n",
       "1     7905\n",
       "Name: count, dtype: int64"
      ]
     },
     "execution_count": 57,
     "metadata": {},
     "output_type": "execute_result"
    }
   ],
   "source": [
    "df1.Label.value_counts()"
   ]
  },
  {
   "cell_type": "code",
   "execution_count": 58,
   "metadata": {
    "scrolled": true
   },
   "outputs": [
    {
     "data": {
      "text/plain": [
       "Label\n",
       "1    1255\n",
       "Name: count, dtype: int64"
      ]
     },
     "execution_count": 58,
     "metadata": {},
     "output_type": "execute_result"
    }
   ],
   "source": [
    "df2.Label.value_counts()"
   ]
  },
  {
   "cell_type": "code",
   "execution_count": 59,
   "metadata": {},
   "outputs": [],
   "source": [
    "df2p=df1[df1['Label']==0]\n",
    "df2pp=df2p.sample(n=None, frac=1255/18225, replace=False, weights=None, random_state=0, axis=0)\n",
    "df2=pd.concat([df2, df2pp])"
   ]
  },
  {
   "cell_type": "code",
   "execution_count": 60,
   "metadata": {},
   "outputs": [
    {
     "data": {
      "text/plain": [
       "Label\n",
       "1    1255\n",
       "0    1255\n",
       "Name: count, dtype: int64"
      ]
     },
     "execution_count": 60,
     "metadata": {},
     "output_type": "execute_result"
    }
   ],
   "source": [
    "df2.Label.value_counts()"
   ]
  },
  {
   "cell_type": "code",
   "execution_count": 61,
   "metadata": {
    "collapsed": true
   },
   "outputs": [],
   "source": [
    "df = pd.concat([df1, df2])"
   ]
  },
  {
   "cell_type": "code",
   "execution_count": 62,
   "metadata": {},
   "outputs": [
    {
     "data": {
      "text/plain": [
       "0    19480\n",
       "1     9160\n",
       "Name: count, dtype: int64"
      ]
     },
     "execution_count": 62,
     "metadata": {},
     "output_type": "execute_result"
    }
   ],
   "source": [
    "X = df.drop(['Label'],axis=1) .values\n",
    "y = df.iloc[:, -1].values.reshape(-1,1)\n",
    "y=np.ravel(y)\n",
    "pd.Series(y).value_counts()"
   ]
  },
  {
   "cell_type": "markdown",
   "metadata": {},
   "source": [
    "### Feature engineering (IG, FCBF, and KPCA)"
   ]
  },
  {
   "cell_type": "markdown",
   "metadata": {},
   "source": [
    "#### Feature selection by information gain (IG)"
   ]
  },
  {
   "cell_type": "code",
   "execution_count": 63,
   "metadata": {},
   "outputs": [],
   "source": [
    "# Calculate mutual information scores for feature importance\n",
    "from sklearn.feature_selection import mutual_info_classif\n",
    "mutual_info_scores = mutual_info_classif(X, y)"
   ]
  },
  {
   "cell_type": "code",
   "execution_count": 64,
   "metadata": {},
   "outputs": [],
   "source": [
    "# Sort features by importance scores in descending order and calculate total importance\n",
    "# Also, extract feature names for further processing\n",
    "sorted_features = sorted(zip(map(lambda x: round(x, 4), mutual_info_scores), numeric_features), reverse=True)\n",
    "total_importances = 0\n",
    "selected_features = []\n",
    "for i in range(0, len(sorted_features)):\n",
    "    total_importances = total_importances + sorted_features[i][0]\n",
    "    selected_features.append(sorted_features[i][1])"
   ]
  },
  {
   "cell_type": "code",
   "execution_count": 65,
   "metadata": {},
   "outputs": [],
   "source": [
    "# Select the important features from top to bottom until the accumulated importance reaches 90%\n",
    "sorted_features_normalized = sorted(zip(map(lambda x: round(x, 4), mutual_info_scores/total_importances), numeric_features), reverse=True)\n",
    "cumulative_importance = 0\n",
    "selected_features = []\n",
    "for i in range(0, len(sorted_features_normalized)):\n",
    "    cumulative_importance = cumulative_importance + sorted_features_normalized[i][0]\n",
    "    selected_features.append(sorted_features_normalized[i][1])\n",
    "    if cumulative_importance>=0.9:\n",
    "        break        "
   ]
  },
  {
   "cell_type": "code",
   "execution_count": 66,
   "metadata": {},
   "outputs": [],
   "source": [
    "X_selected = df[selected_features].values"
   ]
  },
  {
   "cell_type": "code",
   "execution_count": 67,
   "metadata": {},
   "outputs": [
    {
     "data": {
      "text/plain": [
       "(28640, 59)"
      ]
     },
     "execution_count": 67,
     "metadata": {},
     "output_type": "execute_result"
    }
   ],
   "source": [
    "X_selected.shape"
   ]
  },
  {
   "cell_type": "code",
   "execution_count": 68,
   "metadata": {},
   "outputs": [
    {
     "data": {
      "text/plain": [
       "array([[-0.0114377 , -0.04071938, -0.12452716, ..., -0.22518934,\n",
       "        -0.15147407, -0.20740126],\n",
       "       [-0.01143677, -0.04071938, -0.12452716, ..., -0.22518934,\n",
       "        -0.15147407, -0.20740126],\n",
       "       [-0.01143677, -0.04071938, -0.12452716, ..., -0.22518934,\n",
       "        -0.15147407, -0.20740126],\n",
       "       ...,\n",
       "       [-0.01144936, -0.0228449 , -0.12397566, ..., -0.22518934,\n",
       "        -0.15147407, -0.20740126],\n",
       "       [-0.01134862, -0.03797516, -0.12431573, ..., -0.22518934,\n",
       "        -0.15147407, -0.20740126],\n",
       "       [-0.01144941, -0.04071938, -0.12453948, ..., -0.22518934,\n",
       "        -0.15147407, -0.20740126]])"
      ]
     },
     "execution_count": 68,
     "metadata": {},
     "output_type": "execute_result"
    }
   ],
   "source": [
    "X_selected"
   ]
  },
  {
   "cell_type": "markdown",
   "metadata": {},
   "source": [
    "#### Feature selection by Fast Correlation Based Filter (FCBF)\n",
    "\n",
    "The module is imported from the GitHub repo: https://github.com/SantiagoEG/FCBF_module"
   ]
  },
  {
   "cell_type": "code",
   "execution_count": 69,
   "metadata": {
    "collapsed": true
   },
   "outputs": [],
   "source": [
    "# Initialize the Fast Correlation Based Filter (FCBF) method for feature selection\n",
    "from FCBF_module import FCBF, FCBFK, FCBFiP, get_i\n",
    "fcbf = FCBFK(k = 20)"
   ]
  },
  {
   "cell_type": "code",
   "execution_count": 70,
   "metadata": {},
   "outputs": [],
   "source": [
    "X_fss = fcbf.fit_transform(X_selected,y)"
   ]
  },
  {
   "cell_type": "code",
   "execution_count": 71,
   "metadata": {},
   "outputs": [
    {
     "data": {
      "text/plain": [
       "(28640, 20)"
      ]
     },
     "execution_count": 71,
     "metadata": {},
     "output_type": "execute_result"
    }
   ],
   "source": [
    "X_fss.shape"
   ]
  },
  {
   "cell_type": "code",
   "execution_count": 72,
   "metadata": {},
   "outputs": [
    {
     "data": {
      "text/plain": [
       "array([[-0.0114377 , -0.02105351, -0.15147407, ..., -0.01159936,\n",
       "        -0.022446  , -0.12499637],\n",
       "       [-0.01143677, -0.02105618, -0.15147407, ..., -0.01159936,\n",
       "        -0.022446  , -0.12499637],\n",
       "       [-0.01143677, -0.02105726, -0.15147407, ..., -0.01159936,\n",
       "        -0.022446  , -0.12499637],\n",
       "       ...,\n",
       "       [-0.01144936, -0.02105817, -0.15147407, ..., -0.01159936,\n",
       "        -0.022446  , -0.12462652],\n",
       "       [-0.01134862, -0.02096301, -0.15147407, ..., -0.01159919,\n",
       "        -0.02244562, -0.12492858],\n",
       "       [-0.01144941, -0.02105482, -0.15147407, ..., -0.01159936,\n",
       "        -0.022446  , -0.12499803]])"
      ]
     },
     "execution_count": 72,
     "metadata": {},
     "output_type": "execute_result"
    }
   ],
   "source": [
    "X_fss"
   ]
  },
  {
   "cell_type": "markdown",
   "metadata": {},
   "source": [
    "####  kernel principal component analysis (KPCA)"
   ]
  },
  {
   "cell_type": "code",
   "execution_count": 73,
   "metadata": {},
   "outputs": [],
   "source": [
    "# Transform the feature set using FCBF to reduce dimensions\n",
    "from sklearn.decomposition import KernelPCA\n",
    "kpca = KernelPCA(n_components = 10, kernel = 'rbf')\n",
    "kpca.fit(X_fss, y)\n",
    "X_kpca = kpca.transform(X_fss)\n",
    "\n",
    "# from sklearn.decomposition import PCA\n",
    "# kpca = PCA(n_components = 10)\n",
    "# kpca.fit(X_fss, y)\n",
    "# X_kpca = kpca.transform(X_fss)"
   ]
  },
  {
   "cell_type": "markdown",
   "metadata": {},
   "source": [
    "### Train-test split after feature selection"
   ]
  },
  {
   "cell_type": "code",
   "execution_count": 74,
   "metadata": {
    "collapsed": true
   },
   "outputs": [],
   "source": [
    "X_train = X_kpca[:len(df1)]\n",
    "y_train = y[:len(df1)]\n",
    "X_test = X_kpca[len(df1):]\n",
    "y_test = y[len(df1):]"
   ]
  },
  {
   "cell_type": "markdown",
   "metadata": {},
   "source": [
    "### Solve class-imbalance by SMOTE"
   ]
  },
  {
   "cell_type": "code",
   "execution_count": 75,
   "metadata": {},
   "outputs": [
    {
     "data": {
      "text/plain": [
       "0    18225\n",
       "1     7905\n",
       "Name: count, dtype: int64"
      ]
     },
     "execution_count": 75,
     "metadata": {},
     "output_type": "execute_result"
    }
   ],
   "source": [
    "pd.Series(y_train).value_counts()"
   ]
  },
  {
   "cell_type": "code",
   "execution_count": 76,
   "metadata": {},
   "outputs": [],
   "source": [
    "# Apply Synthetic Minority Oversampling Technique (SMOTE) to balance the training dataset\n",
    "from imblearn.over_sampling import SMOTE\n",
    "smote=SMOTE(n_jobs=-1,sampling_strategy={1:18225})\n",
    "X_train, y_train = smote.fit_resample(X_train, y_train)"
   ]
  },
  {
   "cell_type": "code",
   "execution_count": 77,
   "metadata": {},
   "outputs": [
    {
     "data": {
      "text/plain": [
       "0    18225\n",
       "1    18225\n",
       "Name: count, dtype: int64"
      ]
     },
     "execution_count": 77,
     "metadata": {},
     "output_type": "execute_result"
    }
   ],
   "source": [
    "pd.Series(y_train).value_counts()"
   ]
  },
  {
   "cell_type": "code",
   "execution_count": 78,
   "metadata": {},
   "outputs": [
    {
     "data": {
      "text/plain": [
       "1    1255\n",
       "0    1255\n",
       "Name: count, dtype: int64"
      ]
     },
     "execution_count": 78,
     "metadata": {},
     "output_type": "execute_result"
    }
   ],
   "source": [
    "pd.Series(y_test).value_counts()"
   ]
  },
  {
   "cell_type": "markdown",
   "metadata": {},
   "source": [
    "### Apply the cluster labeling (CL) k-means method"
   ]
  },
  {
   "cell_type": "code",
   "execution_count": 79,
   "metadata": {
    "collapsed": true
   },
   "outputs": [],
   "source": [
    "from sklearn.cluster import KMeans\n",
    "from sklearn.cluster import DBSCAN,MeanShift\n",
    "from sklearn.cluster import SpectralClustering,AgglomerativeClustering,AffinityPropagation,Birch,MiniBatchKMeans,MeanShift \n",
    "from sklearn.mixture import GaussianMixture, BayesianGaussianMixture\n",
    "from sklearn.metrics import classification_report\n",
    "from sklearn import metrics"
   ]
  },
  {
   "cell_type": "code",
   "execution_count": 80,
   "metadata": {
    "collapsed": true
   },
   "outputs": [],
   "source": [
    "# A function for cluster labeling using MiniBatchKMeans\n",
    "def CL_kmeans(X_train, X_test, y_train, y_test,n,b=100):\n",
    "    km_cluster = MiniBatchKMeans(n_clusters=n,batch_size=b, random_state=0)\n",
    "    result = km_cluster.fit_predict(X_train)\n",
    "    result2 = km_cluster.predict(X_test)\n",
    "\n",
    "    count=0\n",
    "    a=np.zeros(n)\n",
    "    b=np.zeros(n)\n",
    "    for v in range(0,n):\n",
    "        for i in range(0,len(y_train)):\n",
    "            if result[i]==v:\n",
    "                if y_train[i]==1:\n",
    "                    a[v]=a[v]+1\n",
    "                else:\n",
    "                    b[v]=b[v]+1\n",
    "    list1=[]\n",
    "    list2=[]\n",
    "    for v in range(0,n):\n",
    "        if a[v]<=b[v]:\n",
    "            list1.append(v)\n",
    "        else: \n",
    "            list2.append(v)\n",
    "    for v in range(0,len(y_test)):\n",
    "        if result2[v] in list1:\n",
    "            result2[v]=0\n",
    "        elif result2[v] in list2:\n",
    "            result2[v]=1\n",
    "        else:\n",
    "            print(\"-1\")\n",
    "    print(classification_report(y_test, result2))\n",
    "    cm=confusion_matrix(y_test,result2)\n",
    "    acc=metrics.accuracy_score(y_test,result2)\n",
    "    print(str(acc))\n",
    "    print(cm)"
   ]
  },
  {
   "cell_type": "code",
   "execution_count": 81,
   "metadata": {},
   "outputs": [
    {
     "name": "stdout",
     "output_type": "stream",
     "text": [
      "              precision    recall  f1-score   support\n",
      "\n",
      "           0       1.00      0.84      0.91      1255\n",
      "           1       0.86      1.00      0.93      1255\n",
      "\n",
      "    accuracy                           0.92      2510\n",
      "   macro avg       0.93      0.92      0.92      2510\n",
      "weighted avg       0.93      0.92      0.92      2510\n",
      "\n",
      "0.9191235059760956\n",
      "[[1052  203]\n",
      " [   0 1255]]\n"
     ]
    }
   ],
   "source": [
    "CL_kmeans(X_train, X_test, y_train, y_test, 8)"
   ]
  },
  {
   "cell_type": "markdown",
   "metadata": {},
   "source": [
    "### Hyperparameter optimization of CL-k-means\n",
    "Tune \"k\""
   ]
  },
  {
   "cell_type": "code",
   "execution_count": 82,
   "metadata": {
    "scrolled": true
   },
   "outputs": [
    {
     "name": "stdout",
     "output_type": "stream",
     "text": [
      "30 0.8705179282868526\n",
      "43 0.9235059760956176\n",
      "43 0.9235059760956176\n",
      "43 0.9235059760956176\n",
      "32 0.8772908366533865\n",
      "20 0.9581673306772909\n",
      "16 0.8589641434262948\n",
      "5 0.37211155378486055\n",
      "15 0.9601593625498008\n",
      "25 0.9792828685258964\n",
      "23 0.9517928286852589\n",
      "50 0.9083665338645418\n",
      "13 0.9235059760956176\n",
      "38 0.8880478087649403\n",
      "47 0.9442231075697212\n",
      "24 0.9717131474103585\n",
      "26 0.8788844621513944\n",
      "22 0.8641434262948208\n",
      "13 0.9235059760956176\n",
      "46 0.9235059760956176\n",
      "4.349738597869873\n",
      "Best score=0.9793\n",
      "Best parameters: n_clusters=25\n"
     ]
    }
   ],
   "source": [
    "#Hyperparameter optimization by BO-GP\n",
    "from skopt.space import Real, Integer\n",
    "from skopt.utils import use_named_args\n",
    "from sklearn import metrics\n",
    "\n",
    "space  = [Integer(2, 50, name='n_clusters')]\n",
    "@use_named_args(space)\n",
    "def objective(**params):\n",
    "    km_cluster = MiniBatchKMeans(batch_size=100,random_state=0, **params)\n",
    "    n=params['n_clusters']\n",
    "    \n",
    "    result = km_cluster.fit_predict(X_train)\n",
    "    result2 = km_cluster.predict(X_test)\n",
    "\n",
    "    count=0\n",
    "    a=np.zeros(n)\n",
    "    b=np.zeros(n)\n",
    "    for v in range(0,n):\n",
    "        for i in range(0,len(y_train)):\n",
    "            if result[i]==v:\n",
    "                if y_train[i]==1:\n",
    "                    a[v]=a[v]+1\n",
    "                else:\n",
    "                    b[v]=b[v]+1\n",
    "    list1=[]\n",
    "    list2=[]\n",
    "    for v in range(0,n):\n",
    "        if a[v]<=b[v]:\n",
    "            list1.append(v)\n",
    "        else: \n",
    "            list2.append(v)\n",
    "    for v in range(0,len(y_test)):\n",
    "        if result2[v] in list1:\n",
    "            result2[v]=0\n",
    "        elif result2[v] in list2:\n",
    "            result2[v]=1\n",
    "        else:\n",
    "            print(\"-1\")\n",
    "    cm=metrics.accuracy_score(y_test,result2)\n",
    "    print(str(n)+\" \"+str(cm))\n",
    "    return (1-cm)\n",
    "from skopt import gp_minimize\n",
    "import time\n",
    "t1=time.time()\n",
    "res_gp = gp_minimize(objective, space, n_calls=20, random_state=0)\n",
    "t2=time.time()\n",
    "print(t2-t1)\n",
    "print(\"Best score=%.4f\" % (1-res_gp.fun))\n",
    "print(\"\"\"Best parameters: n_clusters=%d\"\"\" % (res_gp.x[0]))"
   ]
  },
  {
   "cell_type": "code",
   "execution_count": 83,
   "metadata": {},
   "outputs": [
    {
     "name": "stdout",
     "output_type": "stream",
     "text": [
      "24 0.9717131474103585                                 \n",
      "15 0.9601593625498008                                                             \n",
      "43 0.9235059760956176                                                             \n",
      "27 0.8784860557768924                                                             \n",
      "50 0.9083665338645418                                                             \n",
      "28 0.8792828685258964                                                             \n",
      "36 0.8940239043824701                                                             \n",
      "30 0.8705179282868526                                                             \n",
      "23 0.9517928286852589                                                             \n",
      "35 0.8772908366533865                                                             \n",
      "25 0.9792828685258964                                                              \n",
      "37 0.8900398406374502                                                              \n",
      "6 0.36294820717131476                                                             \n",
      "24 0.9717131474103585                                                             \n",
      "25 0.9792828685258964                                                             \n",
      "29 0.9055776892430278                                                             \n",
      "36 0.8940239043824701                                                             \n",
      "45 0.9179282868525896                                                             \n",
      "49 0.9270916334661354                                                             \n",
      "44 0.9071713147410359                                                             \n",
      "100%|██████████| 20/20 [00:02<00:00,  7.27trial/s, best loss: 0.02071713147410359]\n",
      "Random Forest: Hyperopt estimated optimum {'n_clusters': np.float64(25.0)}\n"
     ]
    }
   ],
   "source": [
    "#Hyperparameter optimization by BO-TPE\n",
    "from hyperopt import hp, fmin, tpe, STATUS_OK, Trials\n",
    "from sklearn.model_selection import cross_val_score, StratifiedKFold\n",
    "from sklearn.cluster import MiniBatchKMeans\n",
    "from sklearn import metrics\n",
    "\n",
    "def objective(params):\n",
    "    params = {\n",
    "        'n_clusters': int(params['n_clusters']), \n",
    "    }\n",
    "    km_cluster = MiniBatchKMeans(batch_size=100, random_state=0, **params)\n",
    "    n=params['n_clusters']\n",
    "    \n",
    "    result = km_cluster.fit_predict(X_train)\n",
    "    result2 = km_cluster.predict(X_test)\n",
    "\n",
    "    count=0\n",
    "    a=np.zeros(n)\n",
    "    b=np.zeros(n)\n",
    "    for v in range(0,n):\n",
    "        for i in range(0,len(y_train)):\n",
    "            if result[i]==v:\n",
    "                if y_train[i]==1:\n",
    "                    a[v]=a[v]+1\n",
    "                else:\n",
    "                    b[v]=b[v]+1\n",
    "    list1=[]\n",
    "    list2=[]\n",
    "    for v in range(0,n):\n",
    "        if a[v]<=b[v]:\n",
    "            list1.append(v)\n",
    "        else: \n",
    "            list2.append(v)\n",
    "    for v in range(0,len(y_test)):\n",
    "        if result2[v] in list1:\n",
    "            result2[v]=0\n",
    "        elif result2[v] in list2:\n",
    "            result2[v]=1\n",
    "        else:\n",
    "            print(\"-1\")\n",
    "    score=metrics.accuracy_score(y_test,result2)\n",
    "    print(str(params['n_clusters'])+\" \"+str(score))\n",
    "    return {'loss':1-score, 'status': STATUS_OK }\n",
    "space = {\n",
    "    'n_clusters': hp.quniform('n_clusters', 2, 50, 1),\n",
    "}\n",
    "\n",
    "best = fmin(fn=objective,\n",
    "            space=space,\n",
    "            algo=tpe.suggest,\n",
    "            max_evals=20)\n",
    "print(\"Random Forest: Hyperopt estimated optimum {}\".format(best))"
   ]
  },
  {
   "cell_type": "code",
   "execution_count": 84,
   "metadata": {},
   "outputs": [
    {
     "name": "stdout",
     "output_type": "stream",
     "text": [
      "              precision    recall  f1-score   support\n",
      "\n",
      "           0       1.00      0.72      0.84      1255\n",
      "           1       0.78      1.00      0.88      1255\n",
      "\n",
      "    accuracy                           0.86      2510\n",
      "   macro avg       0.89      0.86      0.86      2510\n",
      "weighted avg       0.89      0.86      0.86      2510\n",
      "\n",
      "0.8589641434262948\n",
      "[[ 901  354]\n",
      " [   0 1255]]\n"
     ]
    }
   ],
   "source": [
    "CL_kmeans(X_train, X_test, y_train, y_test, 16)"
   ]
  },
  {
   "cell_type": "markdown",
   "metadata": {},
   "source": [
    "### Apply the CL-k-means model with biased classifiers"
   ]
  },
  {
   "cell_type": "code",
   "execution_count": 85,
   "metadata": {},
   "outputs": [],
   "source": [
    "# Only a sample code to show the logic. It needs to work on the entire dataset to generate sufficient training samples for biased classifiers\n",
    "def Anomaly_IDS(X_train, X_test, y_train, y_test, n, b=100):\n",
    "    # CL-kmeans\n",
    "    km_cluster = MiniBatchKMeans(n_clusters=n, batch_size=b, random_state=0)\n",
    "    result = km_cluster.fit_predict(X_train)\n",
    "    result2 = km_cluster.predict(X_test)\n",
    "\n",
    "    count = 0\n",
    "    a = np.zeros(n)\n",
    "    b = np.zeros(n)\n",
    "\n",
    "    for v in range(0, n):\n",
    "        for i in range(0, len(y_train)):\n",
    "            if result[i] == v:\n",
    "                if y_train[i] == 1:\n",
    "                    a[v] += 1\n",
    "                else:\n",
    "                    b[v] += 1\n",
    "    list1 = []\n",
    "    list2 = []\n",
    "    for v in range(0, n):\n",
    "        if a[v] <= b[v]:\n",
    "            list1.append(v)\n",
    "        else:\n",
    "            list2.append(v)\n",
    "\n",
    "    # Process y_test\n",
    "    for v in range(0, len(y_test)):\n",
    "        if result2[v] in list1:\n",
    "            result2[v] = 0\n",
    "        elif result2[v] in list2:\n",
    "            result2[v] = 1\n",
    "        else:\n",
    "            print(\"-1\")\n",
    "    print(classification_report(y_test, result2))\n",
    "    cm = confusion_matrix(y_test, result2)\n",
    "    acc = metrics.accuracy_score(y_test, result2)  # Using y_test here\n",
    "    print(f\"Accuracy: {acc}\")\n",
    "    print(cm)\n",
    "\n",
    "    #Biased classifier construction\n",
    "    count = 0\n",
    "    print(len(y_train))\n",
    "    a = np.zeros(n)\n",
    "    b = np.zeros(n)\n",
    "    FNL = []\n",
    "    FPL = []\n",
    "    for v in range(0, n):\n",
    "        al = []\n",
    "        bl = []\n",
    "        for i in range(0, len(y_train)):\n",
    "            if result[i] == v:\n",
    "                if y_train[i] == 1:  # label 1\n",
    "                    a[v] += 1\n",
    "                    al.append(i)\n",
    "                else:  # label 0\n",
    "                    b[v] += 1\n",
    "                    bl.append(i)\n",
    "        if a[v] <= b[v]:\n",
    "            FNL.extend(al)\n",
    "        else:\n",
    "            FPL.extend(bl)\n",
    "\n",
    "    dffp = df.iloc[FPL, :]\n",
    "    dffn = df.iloc[FNL, :]\n",
    "    dfva0 = df[df['Label'] == 0]\n",
    "    dfva1 = df[df['Label'] == 1]\n",
    "\n",
    "    dffpp = dfva1.sample(frac=len(FPL) / dfva1.shape[0], random_state=0)\n",
    "    dffnp = dfva0.sample(frac=len(FNL) / dfva0.shape[0], random_state=0)\n",
    "\n",
    "    dffp_f = pd.concat([dffp, dffpp])\n",
    "    dffn_f = pd.concat([dffn, dffnp])\n",
    "\n",
    "    # Train biased classifiers\n",
    "    Xp = dffp_f.drop(['Label'], axis=1)\n",
    "    yp = np.ravel(dffp_f['Label'].values)\n",
    "\n",
    "    Xn = dffn_f.drop(['Label'], axis=1)\n",
    "    yn = np.ravel(dffn_f['Label'].values)\n",
    "\n",
    "    rfp = RandomForestClassifier(random_state=0)\n",
    "    rfp.fit(Xp, yp)\n",
    "    rfn = RandomForestClassifier(random_state=0)\n",
    "    rfn.fit(Xn, yn)\n",
    "\n",
    "    # Align features between train and test\n",
    "    X2p = df2.drop(['Label'], axis=1)\n",
    "    X2p = X2p.iloc[:, :X_train.shape[1]]\n",
    "    y2p = np.ravel(df2['Label'].values)\n",
    "\n",
    "    result2 = km_cluster.predict(X2p)\n",
    "\n",
    "    count = 0\n",
    "    a = np.zeros(n)\n",
    "    b = np.zeros(n)\n",
    "    for v in range(0, n):\n",
    "        for i in range(0, len(y_train)):\n",
    "            if result[i] == v:\n",
    "                if y_train[i] == 1:\n",
    "                    a[v] += 1\n",
    "                else:\n",
    "                    b[v] += 1\n",
    "    list1 = []\n",
    "    list2 = []\n",
    "    l1 = []\n",
    "    l0 = []\n",
    "    for v in range(0, n):\n",
    "        if a[v] <= b[v]:\n",
    "            list1.append(v)\n",
    "        else:\n",
    "            list2.append(v)\n",
    "    for v in range(0, len(y2p)):\n",
    "        if result2[v] in list1:\n",
    "            result2[v] = 0\n",
    "            l0.append(v)\n",
    "        elif result2[v] in list2:\n",
    "            result2[v] = 1\n",
    "            l1.append(v)\n",
    "        else:\n",
    "            print(\"-1\")\n",
    "    print(classification_report(y2p, result2))\n",
    "    cm = confusion_matrix(y2p, result2)\n",
    "    print(cm)"
   ]
  },
  {
   "cell_type": "code",
   "execution_count": 86,
   "metadata": {
    "collapsed": true
   },
   "outputs": [
    {
     "name": "stdout",
     "output_type": "stream",
     "text": [
      "              precision    recall  f1-score   support\n",
      "\n",
      "           0       0.87      0.62      0.73        98\n",
      "           1       0.72      0.91      0.80       102\n",
      "\n",
      "    accuracy                           0.77       200\n",
      "   macro avg       0.79      0.77      0.76       200\n",
      "weighted avg       0.79      0.77      0.76       200\n",
      "\n",
      "Accuracy: 0.77\n",
      "[[61 37]\n",
      " [ 9 93]]\n",
      "800\n",
      "              precision    recall  f1-score   support\n",
      "\n",
      "           0       0.04      0.02      0.03      1255\n",
      "           1       0.34      0.51      0.41      1255\n",
      "\n",
      "    accuracy                           0.27      2510\n",
      "   macro avg       0.19      0.27      0.22      2510\n",
      "weighted avg       0.19      0.27      0.22      2510\n",
      "\n",
      "[[  27 1228]\n",
      " [ 613  642]]\n"
     ]
    }
   ],
   "source": [
    "from sklearn.datasets import make_classification\n",
    "\n",
    "\n",
    "# Default n_sample seems to be 100 but we'll do 1000\n",
    "X, y = make_classification(n_samples=1000, n_features=77, random_state=0)\n",
    "X_train, X_test, y_train, y_test = train_test_split(X, y, test_size=0.2, random_state=0)\n",
    "\n",
    "# Ok so the n argument represents the number of clusters. The b argument is the batch size for the MiniBatchKMeans\n",
    "\n",
    "# A higher value of n creates more clusters, capturing finer-grained patterns in the data.\n",
    "# If n is too small, distinct behaviors (e.g., different attack types) may get lumped together, reducing the ability to distinguish between benign and malicious traffic.\n",
    "# If n is too large, overfitting may occur, as clusters may become too specific to the training data, reducing generalization.\n",
    "\n",
    "# Instead of using the entire dataset at once, the algorithm processes the data in chunks (or batches) of size b (the argument), making it more memory efficient.\n",
    "# If b is too small, the clustering algorithm might converge to suboptimal clusters due to insufficient data in each batch.\n",
    "# If b is very large (close to the dataset size), the method essentially behaves like traditional KMeans, which could be computationally expensive for large datasets.\n",
    "\n",
    "Anomaly_IDS(X_train, X_test, y_train, y_test, n=5, b=100)"
   ]
  },
  {
   "cell_type": "markdown",
   "metadata": {},
   "source": [
    "95% of the code has been shared, and the remaining 5% is retained for future extension.  \n",
    "Thank you for your interest and more details are in the paper."
   ]
  }
 ],
 "metadata": {
  "anaconda-cloud": {},
  "kernelspec": {
   "display_name": ".venv",
   "language": "python",
   "name": "python3"
  },
  "language_info": {
   "codemirror_mode": {
    "name": "ipython",
    "version": 3
   },
   "file_extension": ".py",
   "mimetype": "text/x-python",
   "name": "python",
   "nbconvert_exporter": "python",
   "pygments_lexer": "ipython3",
   "version": "3.11.6"
  }
 },
 "nbformat": 4,
 "nbformat_minor": 2
}
